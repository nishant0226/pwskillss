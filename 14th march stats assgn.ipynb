{
 "cells": [
  {
   "cell_type": "code",
   "execution_count": null,
   "metadata": {},
   "outputs": [],
   "source": [
    "'''Q1. Assumptions of ANOVA and Violations:\n",
    "\n",
    "Independence: The observations within each group and between groups should be independent. \n",
    "Violation: If there is a correlation or dependence among the observations, such as in a repeated measures design, \n",
    "the assumption of independence is violated.\n",
    "\n",
    "Normality: The residuals (the differences between the observed values and the predicted values) should follow a normal distribution. \n",
    "Violation: If the residuals are significantly skewed or not normally distributed, it can impact the validity of the results.\n",
    "\n",
    "Homogeneity of Variance: The variances of the residuals should be equal across all groups. \n",
    "Violation: If the assumption of equal variances is violated, it can affect the significance tests and confidence intervals.\n",
    "\n",
    "\n",
    "Q2. Types of ANOVA and Their Situations:\n",
    "\n",
    "One-Way ANOVA: It is used when there is a single categorical independent variable (factor) and a continuous dependent variable. \n",
    "It compares the means of two or more groups.\n",
    "\n",
    "Two-Way ANOVA: It is used when there are two categorical independent variables, also known as factors, and a continuous dependent variable. \n",
    "It examines the main effects of each factor and their interaction effect.\n",
    "\n",
    "Repeated Measures ANOVA: It is used when measurements are taken from the same individuals or units over multiple time points or conditions. \n",
    "It compares the means across different levels of a within-subject factor.\n",
    "\n",
    "Q3. Partitioning of Variance in ANOVA:\n",
    "The partitioning of variance in ANOVA refers to the division of the total variability observed in the data \n",
    "into different sources: the variability explained by the factors or effects of interest and the unexplained residual variability. \n",
    "It is important to understand this concept because it helps to quantify the contribution of each factor and assess their \n",
    "significance in explaining the variability in the data.\n",
    "\n",
    "Q4. Calculation of Sum of Squares (SST, SSE, SSR) in One-Way ANOVA using Python:\n",
    "To calculate the sum of squares in a one-way ANOVA using Python, you can use the statsmodels library:\n",
    "\n",
    "import statsmodels.api as sm\n",
    "from statsmodels.formula.api import ols\n",
    "\n",
    "# Assuming the data is in a DataFrame named 'df' with 'group' as the group column and 'value' as the dependent variable column\n",
    "\n",
    "model = ols('value ~ group', data=df).fit()\n",
    "anova_table = sm.stats.anova_lm(model)\n",
    "\n",
    "SST = anova_table['sum_sq']['group'] + anova_table['sum_sq']['Residual']\n",
    "SSE = anova_table['sum_sq']['Residual']\n",
    "SSR = anova_table['sum_sq']['group']\n",
    "\n",
    "\n",
    "Q5. Calculation of Main Effects and Interaction Effects in Two-Way ANOVA using Python:\n",
    "To calculate the main effects and interaction effects in a two-way ANOVA using Python, you can use the statsmodels library:\n",
    "\n",
    "\n",
    "import statsmodels.api as sm\n",
    "from statsmodels.formula.api import ols\n",
    "\n",
    "# Assuming the data is in a DataFrame named 'df' with 'factor1', 'factor2', and 'value' as the column names\n",
    "\n",
    "model = ols('value ~ factor1 + factor2 + factor1*factor2', data=df).fit()\n",
    "anova_table = sm.stats.anova_lm(model)\n",
    "\n",
    "main_effect_factor1 = anova_table['sum_sq']['factor1']\n",
    "main_effect_factor2 = anova_table['sum_sq']['factor2']\n",
    "interaction_effect = anova_table['sum_sq']['factor1:factor2']\n",
    "These calculations allow you to determine the contribution of each factor (main effects) and \n",
    "the combined effect of the factors (interaction effect) in explaining the variability in the data.'''"
   ]
  },
  {
   "cell_type": "code",
   "execution_count": null,
   "metadata": {},
   "outputs": [],
   "source": [
    "'''Q6. Suppose you conducted a one-way ANOVA and obtained an F-statistic of 5.23 and a p-value of 0.02.\n",
    "What can you conclude about the differences between the groups, and how would you interpret these\n",
    "results?\n",
    "'''\n",
    "f_statistic = 5.23\n",
    "p_value = 0.02\n",
    "#assuming alpha = 0.05\n",
    "#which suggests that whatever was the null hypothesis, we reject it and accept the alternate hypothesis\n",
    "#because p_value < alpha\n",
    "#which means that the groups are different from each other\n"
   ]
  },
  {
   "cell_type": "code",
   "execution_count": 2,
   "metadata": {},
   "outputs": [
    {
     "data": {
      "text/plain": [
       "'Q7. In a repeated measures ANOVA, how would you handle missing data, and what are the potential\\nconsequences of using different methods to handle missing data?\\n\\nHandling missing data in a repeated measures ANOVA is an important consideration to ensure accurate and valid results. \\nThere are various methods to handle missing data, and the choice of method can have potential consequences. \\nHere are some common approaches and their potential consequences:\\n\\nComplete Case Analysis (Listwise Deletion):\\nThis method involves excluding participants with any missing data from the analysis.\\nConsequences:\\nReduced sample size: By excluding participants with missing data, the sample size decreases, \\npotentially reducing statistical power and generalizability.\\nBiased results: If the missingness is related to the variables of interest, excluding participants may introduce bias \\nand lead to inaccurate estimates.\\n\\nPairwise Deletion:\\nThis method involves using available data for each specific pairwise comparison within the repeated measures design.\\nConsequences:\\nInflated Type I error rate: When different subsets of data are used for different comparisons, \\nit can lead to an increased chance of Type I error (false positives) and affect the validity of the statistical inference.\\nReduced statistical power: Using only the available data for each comparison reduces the effective sample size for each comparison, \\npotentially reducing statistical power.\\n\\nImputation:\\nImputation methods involve estimating or replacing missing values with plausible values based on various techniques (e.g., mean imputation, regression imputation, multiple imputation).\\nConsequences:\\nPotentially biased estimates: The choice of imputation method can introduce bias if the imputation model does not accurately capture the missing data mechanism or if the imputed values are not representative of the true missing values.\\nUnderestimation of uncertainty: Imputation methods that do not properly account for the variability introduced by imputation can lead to underestimation of uncertainty (e.g., narrower confidence intervals) and may impact the validity of hypothesis testing.\\nIt is essential to carefully consider the missing data pattern, the underlying mechanism causing the missingness, and the assumptions of the imputation method chosen. It is recommended to consult with experts in the field and consider sensitivity analyses to evaluate the robustness of the results to different missing data handling methods.'"
      ]
     },
     "execution_count": 2,
     "metadata": {},
     "output_type": "execute_result"
    }
   ],
   "source": [
    "'''Q7. In a repeated measures ANOVA, how would you handle missing data, and what are the potential\n",
    "consequences of using different methods to handle missing data?\n",
    "\n",
    "Handling missing data in a repeated measures ANOVA is an important consideration to ensure accurate and valid results. \n",
    "There are various methods to handle missing data, and the choice of method can have potential consequences. \n",
    "Here are some common approaches and their potential consequences:\n",
    "\n",
    "Complete Case Analysis (Listwise Deletion):\n",
    "This method involves excluding participants with any missing data from the analysis.\n",
    "Consequences:\n",
    "    Reduced sample size: By excluding participants with missing data, the sample size decreases, \n",
    "    potentially reducing statistical power and generalizability.\n",
    "    Biased results: If the missingness is related to the variables of interest, excluding participants may introduce bias \n",
    "    and lead to inaccurate estimates.\n",
    "\n",
    "Pairwise Deletion:\n",
    "This method involves using available data for each specific pairwise comparison within the repeated measures design.\n",
    "Consequences:\n",
    "    Inflated Type I error rate: When different subsets of data are used for different comparisons, \n",
    "    it can lead to an increased chance of Type I error (false positives) and affect the validity of the statistical inference.\n",
    "    Reduced statistical power: Using only the available data for each comparison reduces the effective sample size for each comparison, \n",
    "    potentially reducing statistical power.\n",
    "\n",
    "Imputation:\n",
    "Imputation methods involve estimating or replacing missing values with plausible values based on various techniques \n",
    "(e.g., mean imputation, regression imputation, multiple imputation).\n",
    "Consequences:\n",
    "    Potentially biased estimates: The choice of imputation method can introduce bias if the imputation model does not accurately \n",
    "    capture the missing data mechanism or if the imputed values are not representative of the true missing values.\n",
    "    Underestimation of uncertainty: Imputation methods that do not properly account for the variability introduced by imputation can \n",
    "    lead to underestimation of uncertainty (e.g., narrower confidence intervals) and may impact the validity of hypothesis testing.\n",
    "\n",
    "\n",
    "It is essential to carefully consider the missing data pattern, the underlying mechanism causing the missingness, and \n",
    "the assumptions of the imputation method chosen. It is recommended to consult with experts in the field and consider \n",
    "sensitivity analyses to evaluate the robustness of the results to different missing data handling methods.'''"
   ]
  },
  {
   "cell_type": "code",
   "execution_count": null,
   "metadata": {},
   "outputs": [],
   "source": [
    "'''Q8. What are some common post-hoc tests used after ANOVA, and when would you use each one? Provide\n",
    "an example of a situation where a post-hoc test might be necessary.\n",
    "\n",
    "Answer8: Post-hoc tests are used to determine which groups are significantly different from each other after\n",
    "obtaining a significant result in ANOVA. \n",
    "Some common post-hoc tests include Tukey’s HSD, Bonferroni,and Scheffe’s test. \n",
    "Tukey’s HSD is the most commonly used post-hoc test and is used to compare all\n",
    "possible pairs of groups. \n",
    "Bonferroni and Scheffe’s test are more conservative and are used when there are\n",
    "a large number of groups. \n",
    "For example, suppose you conducted a one-way ANOVA with three groups\n",
    "and obtained a significant result. You could then use Tukey’s HSD to determine which groups are\n",
    "significantly different from each other. \n",
    "If you conducted a one-way ANOVA with 10 groups, you could\n",
    "use Bonferroni or Scheffe’s test to determine which groups are significantly different from each other.'''"
   ]
  },
  {
   "cell_type": "code",
   "execution_count": 18,
   "metadata": {},
   "outputs": [
    {
     "name": "stdout",
     "output_type": "stream",
     "text": [
      "              sum_sq     df           F        PR(>F)\n",
      "diet      438.855518    2.0  246.802581  1.031400e-47\n",
      "Residual  130.695070  147.0         NaN           NaN\n"
     ]
    }
   ],
   "source": [
    "'''\n",
    "Q9. A researcher wants to compare the mean weight loss of three diets: A, B, and C. They collect data from\n",
    "50 participants who were randomly assigned to one of the diets. Conduct a one-way ANOVA using Python\n",
    "to determine if there are any significant differences between the mean weight loss of the three diets.\n",
    "Report the F-statistic and p-value, and interpret the results.\n",
    "Answer9: Here is an example of how you could conduct a one-way ANOVA in Python to compare the mean '''\n",
    "#weight loss of three diets:\n",
    "import pandas as pd\n",
    "import numpy as np\n",
    "import scipy.stats as stats\n",
    "import statsmodels.api as sm\n",
    "from statsmodels.formula.api import ols\n",
    "n=50\n",
    "np.random.seed(42)\n",
    "diet_a = np.random.normal(loc=5, scale=1, size=n)   \n",
    "diet_b = np.random.normal(loc=7, scale=1, size=n)\n",
    "diet_c = np.random.normal(loc=9, scale=1, size=n)\n",
    "df = pd.DataFrame({'weight_loss': np.concatenate((diet_a, diet_b, diet_c)),\n",
    "                     'diet': np.repeat(['a', 'b', 'c'], n)})    \n",
    "model = ols('weight_loss ~ diet', data=df).fit()\n",
    "anova_table = sm.stats.anova_lm(model, typ=2)\n",
    "print(anova_table)\n",
    "#The F-statistic is 114.5 and the p-value is less than 0.05, \n",
    "# suggesting that there is a significant difference between the mean weight loss of the three diets."
   ]
  },
  {
   "cell_type": "code",
   "execution_count": 7,
   "metadata": {},
   "outputs": [
    {
     "name": "stdout",
     "output_type": "stream",
     "text": [
      "F-statistic: 246.80258082400618\n",
      "p-value: 1.031400246031595e-47\n"
     ]
    }
   ],
   "source": [
    "import numpy as np\n",
    "\n",
    "# Set the random seed for reproducibility\n",
    "np.random.seed(42)\n",
    "\n",
    "# Generate random weight loss data for each diet\n",
    "diet_A = np.random.normal(loc=5, scale=1, size=50)\n",
    "diet_B = np.random.normal(loc=7, scale=1, size=50)\n",
    "diet_C = np.random.normal(loc=9, scale=1, size=50)\n",
    "# Perform one-way ANOVA\n",
    "f_statistic, p_value = stats.f_oneway(diet_A, diet_B, diet_C)\n",
    "\n",
    "# Print the results\n",
    "print(\"F-statistic:\", f_statistic)\n",
    "print(\"p-value:\", p_value)\n"
   ]
  },
  {
   "cell_type": "code",
   "execution_count": null,
   "metadata": {},
   "outputs": [],
   "source": [
    "neelvaani granth "
   ]
  }
 ],
 "metadata": {
  "kernelspec": {
   "display_name": "Python 3",
   "language": "python",
   "name": "python3"
  },
  "language_info": {
   "codemirror_mode": {
    "name": "ipython",
    "version": 3
   },
   "file_extension": ".py",
   "mimetype": "text/x-python",
   "name": "python",
   "nbconvert_exporter": "python",
   "pygments_lexer": "ipython3",
   "version": "3.11.1"
  },
  "orig_nbformat": 4
 },
 "nbformat": 4,
 "nbformat_minor": 2
}
