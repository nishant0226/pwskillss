{
 "cells": [
  {
   "cell_type": "code",
   "execution_count": null,
   "metadata": {},
   "outputs": [],
   "source": [
    "'''Q1. What are the three measures of central tendency?\n",
    "mean \n",
    "median \n",
    "mode'''"
   ]
  },
  {
   "cell_type": "code",
   "execution_count": null,
   "metadata": {},
   "outputs": [],
   "source": [
    "'''Q2. What is the difference between the mean, median, and mode? How are they used to measure the\n",
    "central tendency of a dataset?\n",
    "Mean, median, and mode are all measures of central tendency used to describe a dataset. \n",
    "Each of these measures provides information about the \"typical\" value in a dataset, but they do so in different ways.\n",
    "\n",
    "The mean is the arithmetic average of a dataset, obtained by adding up all the values in the dataset and dividing by the number of values.\n",
    "It is a sensitive measure of central tendency and is easily affected by outliers in the dataset.\n",
    "\n",
    "The median is the middle value in a dataset when the values are arranged in order. \n",
    "If the dataset has an even number of values, then the median is the average of the two middle values. \n",
    "The median is a robust measure of central tendency because it is not affected by extreme values.\n",
    "\n",
    "The mode is the most frequently occurring value in a dataset. A dataset can have one or more modes, or no mode at all \n",
    "if there is no value that occurs more frequently than the others. The mode is useful when you want to identify the most \n",
    "common value in a dataset.\n",
    "\n",
    "The choice of which measure of central tendency to use depends on the characteristics of the dataset and the research \n",
    "question being investigated. For example, if the dataset contains extreme values or outliers, then the median may be a \n",
    "better measure of central tendency than the mean. If the dataset has a skewed distribution, then the mode may not be a \n",
    "representative measure of central tendency.'''"
   ]
  },
  {
   "cell_type": "code",
   "execution_count": 6,
   "metadata": {},
   "outputs": [
    {
     "name": "stdout",
     "output_type": "stream",
     "text": [
      "mean= 177.01875\n",
      "median= 177.0\n",
      "mode= ModeResult(mode=array([177.]), count=array([3]))\n"
     ]
    },
    {
     "name": "stderr",
     "output_type": "stream",
     "text": [
      "C:\\Users\\p\\AppData\\Local\\Temp\\ipykernel_10972\\2068664640.py:8: FutureWarning: Unlike other reduction functions (e.g. `skew`, `kurtosis`), the default behavior of `mode` typically preserves the axis it acts along. In SciPy 1.11.0, this behavior will change: the default value of `keepdims` will become False, the `axis` over which the statistic is taken will be eliminated, and the value None will no longer be accepted. Set `keepdims` to True or False to avoid this warning.\n",
      "  print(\"mode=\",stats.mode(d))\n"
     ]
    }
   ],
   "source": [
    "'''Q3. Measure the three measures of central tendency for the given height data:\n",
    "[178,177,176,177,178.2,178,175,179,180,175,178.9,176.2,177,172.5,178,176.5]'''\n",
    "d=[178,177,176,177,178.2,178,175,179,180,175,178.9,176.2,177,172.5,178,176.5]\n",
    "import numpy as np\n",
    "from scipy import stats \n",
    "print(\"mean=\",np.mean(d))\n",
    "print(\"median=\",np.median(d))\n",
    "print(\"mode=\",stats.mode(d))"
   ]
  },
  {
   "cell_type": "code",
   "execution_count": 7,
   "metadata": {},
   "outputs": [
    {
     "data": {
      "text/plain": [
       "1.7885814036548633"
      ]
     },
     "execution_count": 7,
     "metadata": {},
     "output_type": "execute_result"
    }
   ],
   "source": [
    "'''Q4. Find the standard deviation for the given data:\n",
    "[178,177,176,177,178.2,178,175,179,180,175,178.9,176.2,177,172.5,178,176.5]'''\n",
    "d1=[178,177,176,177,178.2,178,175,179,180,175,178.9,176.2,177,172.5,178,176.5]\n",
    "import numpy as np\n",
    "np.std(d1)"
   ]
  },
  {
   "cell_type": "code",
   "execution_count": null,
   "metadata": {},
   "outputs": [],
   "source": [
    "'''Q5. How are measures of dispersion such as range, variance, and standard deviation used to describe\n",
    "the spread of a dataset? Provide an example.\n",
    "Measures of dispersion, such as range, variance, and standard deviation, are used to describe the spread of a dataset by providing\n",
    " information on how much the data values deviate from the center or mean of the dataset.\n",
    "\n",
    "The range is the simplest measure of dispersion and represents the difference between the maximum and minimum values in a dataset. \n",
    "It provides a quick indication of the spread of the data, but it is sensitive to outliers and may not accurately represent the \n",
    "variability of the data.\n",
    "\n",
    "Variance is a measure of how much the individual data points in a dataset vary from the mean of the dataset. It is calculated by \n",
    "taking the average of the squared differences between each data point and the mean. Variance is useful for understanding the spread \n",
    "of the data and is used in statistical inference to estimate the variability of the population from which the sample was drawn.\n",
    "\n",
    "Standard deviation is the square root of the variance and provides a measure of the spread of the data in the same units as the \n",
    "original data. It is a commonly used measure of dispersion in statistics and provides a more useful measure of variability than \n",
    "the range or variance alone.\n",
    "\n",
    "For example, consider a dataset of 10 test scores: 85, 78, 92, 88, 75, 80, 95, 85, 90, 83. The range of the data is 20 (95-75), \n",
    "the variance is 47.7, and the standard deviation is 6.9. This tells us that the scores vary from the mean by about 6.9 points on average, \n",
    "and the range of the scores is quite large, indicating some variability in the dataset.'''"
   ]
  },
  {
   "cell_type": "code",
   "execution_count": null,
   "metadata": {},
   "outputs": [],
   "source": [
    "'''Q6. What is a Venn diagram?\n",
    "A Venn diagram is a graphical representation of the relationships between different sets or groups of objects, data, or concepts.\n",
    "A Venn diagram consists of a series of overlapping circles or ellipses, each representing a set or group. The circles or ellipses are drawn so that the overlap between them represents the elements that are common to the sets. \n",
    "The non-overlapping portions of the circles or ellipses represent the elements that are unique to each set.'''"
   ]
  },
  {
   "cell_type": "code",
   "execution_count": null,
   "metadata": {},
   "outputs": [],
   "source": [
    "'''Q7. For the two given sets A = (2,3,4,5,6,7) & B = (0,2,6,8,10). Find:\n",
    "(i) A ⋂ B = (2,6)\n",
    "(ii) A ⋃ B = {0, 2, 3, 4, 5, 6, 7, 8, 10}\n",
    "'''"
   ]
  },
  {
   "cell_type": "code",
   "execution_count": 3,
   "metadata": {},
   "outputs": [
    {
     "data": {
      "text/plain": [
       "{0, 2, 3, 4, 5, 6, 7, 8, 10}"
      ]
     },
     "execution_count": 3,
     "metadata": {},
     "output_type": "execute_result"
    }
   ],
   "source": [
    "'''Q8. What do you understand about skewness in data?\n",
    "Skewness is a measure of the asymmetry of a probability distribution or dataset. \n",
    "A dataset is said to be skewed if it is not symmetrical, meaning that the values are not evenly distributed around the mean.\n",
    "\n",
    "Skewness can be described as either positive or negative, or sometimes zero. \n",
    "If the tail of the distribution extends more to the right, it is said to be positively skewed, \n",
    "and if it extends more to the left, it is said to be negatively skewed. A distribution that is symmetrical has zero skewness.\n",
    "\n",
    "Skewness is important in statistics because it can affect the interpretation of certain analyses, \n",
    "such as the mean and standard deviation. For example, if a dataset is positively skewed, \n",
    "the mean will be greater than the median, indicating that the majority of the data is clustered \n",
    "towards the lower end of the distribution. Conversely, if a dataset is negatively skewed, \n",
    "the mean will be less than the median, indicating that the majority of the data is clustered towards the higher end of the distribution.'''"
   ]
  },
  {
   "cell_type": "code",
   "execution_count": null,
   "metadata": {},
   "outputs": [],
   "source": [
    "'''Q9. If a data is right skewed then what will be the position of median with respect to mean?\n",
    "If a dataset is right skewed, the position of the median with respect to the mean will be to the left of the mean.\n",
    "\n",
    "In a right skewed distribution, the tail of the distribution extends to the right, \n",
    "indicating that there are a few very high values in the dataset. As a result, the mean is pulled towards the higher values \n",
    "in the distribution, making it greater than the median\n",
    "mean will be greater than median '''"
   ]
  },
  {
   "cell_type": "code",
   "execution_count": null,
   "metadata": {},
   "outputs": [],
   "source": [
    "'''Q10. Explain the difference between covariance and correlation. How are these measures used in\n",
    "statistical analysis?\n",
    "Covariance and correlation are two measures of the relationship between two variables in statistical analysis. \n",
    "While both measures are used to assess the degree to which two variables are related, there are some important differences between them.\n",
    "\n",
    "Covariance is a measure of the joint variability between two variables. It measures how much two variables change together. \n",
    "Specifically, covariance measures the extent to which deviations from the mean of one variable are associated with deviations \n",
    "from the mean of the other variable. If the covariance is positive, it indicates that the two variables tend to increase or decrease together. \n",
    "If the covariance is negative, it indicates that one variable tends to increase while the other decreases.\n",
    "\n",
    "Correlation, on the other hand, is a standardized measure of the linear relationship between two variables. \n",
    "It measures the degree to which the relationship between two variables can be described by a straight line. \n",
    "Correlation takes values between -1 and +1, where a correlation of +1 indicates a perfect positive relationship \n",
    "(where one variable increases as the other increases), a correlation of -1 indicates a perfect negative relationship \n",
    "(where one variable decreases as the other increases), and a correlation of 0 indicates no linear relationship between the two variables.\n",
    "\n",
    "One important difference between covariance and correlation is that covariance is measured in the units of the two variables being studied, \n",
    "while correlation is unitless. This means that covariance can be difficult to compare across different datasets, while correlation can be \n",
    "more easily compared.'''"
   ]
  },
  {
   "cell_type": "code",
   "execution_count": null,
   "metadata": {},
   "outputs": [],
   "source": [
    "'''Q11. What is the formula for calculating the sample mean? Provide an example calculation for a\n",
    "dataset.\n",
    "Q12. For a normal distribution data what is the relationship between its measure of central tendency?\n",
    "Q13. How is covariance different from correlation?\n",
    "Q14. How do outliers affect measures of central tendency and dispersion? Provide an example.\n",
    "Q11. The formula for calculating the sample mean is:\n",
    "\n",
    "scss\n",
    "Copy code\n",
    "X̄ = (ΣX) / n\n",
    "Where X̄ is the sample mean, ΣX is the sum of all the individual data points in the sample, and n is the sample size.\n",
    "\n",
    "For example, consider the following dataset: 3, 5, 6, 8, 11. The sum of all the individual data points is 33, and the \n",
    "sample size is 5. Using the formula above, we can calculate the sample mean as:\n",
    "\n",
    "scss\n",
    "Copy code\n",
    "X̄ = (3 + 5 + 6 + 8 + 11) / 5\n",
    "X̄ = 33 / 5\n",
    "X̄ = 6.6\n",
    "Therefore, the sample mean for this dataset is 6.6.\n",
    "\n",
    "Q12. For a normal distribution, the mean, median, and mode are all equal. This is because a normal distribution is \n",
    "symmetrical around its mean, and the mean is located at the center of the distribution. Therefore, the median and mode, \n",
    "which are also measures of central tendency, will also be located at the center of the distribution and will be equal to the mean.\n",
    "\n",
    "Q13. Covariance and correlation are both measures of the relationship between two variables, but there are some key \n",
    "differences between them. The main difference is that covariance measures the direction and magnitude of the relationship \n",
    "between two variables, while correlation measures only the strength and direction of the linear relationship between two variables.\n",
    "\n",
    "Covariance takes into account the units of the variables being studied and can take on any value, positive or negative. \n",
    "A positive covariance indicates that two variables tend to increase or decrease together, while a negative covariance \n",
    "indicates that one variable tends to increase while the other decreases. Correlation, on the other hand, is a unitless \n",
    "measure that takes on values between -1 and +1. A correlation of +1 indicates a perfect positive linear relationship, \n",
    "while a correlation of -1 indicates a perfect negative linear relationship, and a correlation of 0 indicates no linear relationship.\n",
    "\n",
    "Q14. Outliers are data points that are significantly different from the rest of the data in a dataset. \n",
    "They can have a significant impact on measures of central tendency and dispersion, particularly the mean and standard deviation.\n",
    "\n",
    "If a dataset contains outliers, the mean can be skewed towards the direction of the outlier, \n",
    "making it an inaccurate representation of the central tendency of the data. For example, \n",
    "if a dataset contains the values 1, 2, 3, 4, and 100, the mean will be 22, which is much higher than the rest of the data. \n",
    "In this case, the mean is not a good representation of the central tendency of the data, and the median would be a \n",
    "better measure of central tendency.\n",
    "\n",
    "Similarly, outliers can have a significant impact on measures of dispersion, particularly the standard deviation. \n",
    "Since the standard deviation is calculated based on the distance of each data point from the mean, \n",
    "outliers can greatly increase the standard deviation, making it an inaccurate representation of the variability of the data.\n",
    "\n",
    "For example, consider a dataset containing the values 10, 15, 20, 25, and 100. The mean of this dataset is 34, \n",
    "and the standard deviation is 36.2. However, if we remove the outlier (100), the mean becomes 17.5, \n",
    "and the standard deviation becomes 6.5. This demonstrates how outliers can greatly impact measures of central tendency and dispersion.'''"
   ]
  }
 ],
 "metadata": {
  "kernelspec": {
   "display_name": "Python 3",
   "language": "python",
   "name": "python3"
  },
  "language_info": {
   "codemirror_mode": {
    "name": "ipython",
    "version": 3
   },
   "file_extension": ".py",
   "mimetype": "text/x-python",
   "name": "python",
   "nbconvert_exporter": "python",
   "pygments_lexer": "ipython3",
   "version": "3.11.1"
  },
  "orig_nbformat": 4
 },
 "nbformat": 4,
 "nbformat_minor": 2
}
