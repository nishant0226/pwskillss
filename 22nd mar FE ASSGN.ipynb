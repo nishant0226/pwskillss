{
 "cells": [
  {
   "cell_type": "code",
   "execution_count": 6,
   "metadata": {},
   "outputs": [
    {
     "name": "stdout",
     "output_type": "stream",
     "text": [
      "[[ 0.11111111  1.11111111]\n",
      " [ 1.11111111 11.11111111]]\n"
     ]
    }
   ],
   "source": [
    "'''Q1. Pearson correlation coefficient is a measure of the linear relationship between two variables. Suppose\n",
    "you have collected data on the amount of time students spend studying for an exam and their final exam\n",
    "scores. Calculate the Pearson correlation coefficient between these two variables and interpret the result.\n",
    "\n",
    "assuming the data for amount of time spend and final exam scores \n",
    "are in the form of two lists\n",
    "\n",
    "'''\n",
    "import numpy as np\n",
    "time_spent= [1,2,3,4,5,6,7,8,9,10]\n",
    "final_score= [10,20,30,40,50,60,70,80,90,100]\n",
    "#using pearson correalation coefficient formula\n",
    "std_time_spent,std_final_score=np.std(time_spent),np.std(final_score)\n",
    "cov_of_data=np.cov(time_spent,final_score)\n",
    "pearson=cov_of_data/(std_time_spent*std_final_score)\n",
    "print(pearson)\n",
    "\n",
    "#the output shows the correlation between the two variables is 1 which means they are perfectly correlated"
   ]
  },
  {
   "cell_type": "code",
   "execution_count": 9,
   "metadata": {},
   "outputs": [
    {
     "name": "stdout",
     "output_type": "stream",
     "text": [
      "SignificanceResult(statistic=-0.09999999999999999, pvalue=0.8728885715695383)\n"
     ]
    }
   ],
   "source": [
    "'''Q2. Spearman's rank correlation is a measure of the monotonic relationship between two variables.\n",
    "Suppose you have collected data on the amount of sleep individuals get each night and their overall job\n",
    "satisfaction level on a scale of 1 to 10. Calculate the Spearman's rank correlation between these two\n",
    "variables and interpret the result.'''\n",
    "#assuming the data for amount of sleep and job satisfaction are in the form of two lists\n",
    "import numpy as np\n",
    "sleep= [6,7,8,9,10]\n",
    "job_satisfaction= [2,5,3,6,1]\n",
    "from scipy.stats import spearmanr\n",
    "spearman=spearmanr(sleep,job_satisfaction)\n",
    "print(spearman)\n",
    "# the output shows the correlation between the two variables is 0.2 which means they are weakly correlated"
   ]
  },
  {
   "cell_type": "code",
   "execution_count": 15,
   "metadata": {},
   "outputs": [
    {
     "name": "stdout",
     "output_type": "stream",
     "text": [
      "[[ 0.11111111  1.11111111]\n",
      " [ 1.11111111 11.11111111]]\n",
      "PearsonRResult(statistic=1.0, pvalue=0.0)\n"
     ]
    }
   ],
   "source": [
    "'''Q3. Suppose you are conducting a study to examine the relationship between the number of hours of\n",
    "exercise per week and body mass index (BMI) in a sample of adults. You collected data on both variables\n",
    "for 50 participants. Calculate the Pearson correlation coefficient and the Spearman's rank correlation\n",
    "between these two variables and compare the results.'''\n",
    "#assuming the data for amount of exercise and BMI are in the form of two lists\n",
    "import numpy as np\n",
    "exercise= [1,2,3,4,5,6,7,8,9,10]\n",
    "BMI= [10,20,30,40,50,60,70,80,90,100]\n",
    "#using pearson correalation coefficient formula\n",
    "std_exercise,std_BMI=np.std(exercise),np.std(BMI)\n",
    "cov_of_data=np.cov(exercise,BMI)\n",
    "pearson=cov_of_data/(std_exercise*std_BMI)\n",
    "print(pearson)\n",
    "#the output shows the correlation between the two variables is 1 which means they are perfectly correlated\n",
    "\n",
    "\n",
    "###################OR\n",
    "exercise= [1,2,3,4,5,6,7,8,9,10]\n",
    "BMI= [10,20,30,40,50,60,70,80,90,100]\n",
    "from scipy.stats import pearsonr\n",
    "pearson=pearsonr(exercise,BMI)\n",
    "print(pearson)"
   ]
  },
  {
   "cell_type": "code",
   "execution_count": 17,
   "metadata": {},
   "outputs": [
    {
     "name": "stdout",
     "output_type": "stream",
     "text": [
      "[[ 1.09473673 -0.00491256]\n",
      " [-0.00491256  0.95112623]]\n",
      "PearsonRResult(statistic=-0.004814308934970306, pvalue=0.973529893906248)\n"
     ]
    }
   ],
   "source": [
    "'''Q4. A researcher is interested in examining the relationship between the number of hours individuals\n",
    "spend watching television per day and their level of physical activity. The researcher collected data on\n",
    "both variables from a sample of 50 participants. Calculate the Pearson correlation coefficient between\n",
    "these two variables.'''\n",
    "#assuming the data for amount of time spend watching tv and physical activity are in the form of two lists\n",
    "import numpy as np\n",
    "np.random.seed(10)\n",
    "time_spent=np.random.randint(1,10,50)\n",
    "physical_activity=np.random.randint(1,10,50)\n",
    "#using pearson correalation coefficient formula\n",
    "std_time_spent,std_physical_activity=np.std(time_spent),np.std(physical_activity)\n",
    "cov_of_data=np.cov(time_spent,physical_activity)\n",
    "pearson=cov_of_data/(std_time_spent*std_physical_activity)\n",
    "print(pearson)\n",
    "pearson_stats=pearsonr(time_spent,physical_activity)\n",
    "print(pearson_stats)\n",
    "#the negative covariance -0.00491 shows that the two variables are negatively correlated"
   ]
  },
  {
   "cell_type": "code",
   "execution_count": 18,
   "metadata": {},
   "outputs": [
    {
     "name": "stdout",
     "output_type": "stream",
     "text": [
      "SignificanceResult(statistic=0.8332380897952965, pvalue=0.03939551647885117)\n"
     ]
    }
   ],
   "source": [
    "'''Q5. A survey was conducted to examine the relationship between age and preference for a particular\n",
    "brand of soft drink. The survey results are shown below:\n",
    "\n",
    "Age(Years)    Soft drink Preference\n",
    "    25              Coke\n",
    "    42              Pepsi\n",
    "    37           Mountain dew\n",
    "    19              Coke\n",
    "    31              Pepsi\n",
    "    28              Coke\n",
    "\n",
    "'''\n",
    "#assuming the data for age and soft drink preference are in the form of two lists\n",
    "import numpy as np\n",
    "age= [25,42,37,19,31,28]\n",
    "soft_drink= [1,2,3,1,2,1]\n",
    "from scipy.stats import spearmanr\n",
    "spearman=spearmanr(age,soft_drink)\n",
    "print(spearman)\n",
    "#the coefficient is approximately 0.8332. This suggests a strong positive monotonic relationship between the variables. \n",
    "# It indicates that as the values of age increase, the ranks of the corresponding soft_drink values tend to increase as well."
   ]
  },
  {
   "cell_type": "code",
   "execution_count": 20,
   "metadata": {},
   "outputs": [
    {
     "name": "stdout",
     "output_type": "stream",
     "text": [
      "[[0.97423399 0.1869103 ]\n",
      " [0.1869103  1.09845745]]\n",
      "PearsonRResult(statistic=0.180679955263481, pvalue=0.33934048138683226)\n"
     ]
    }
   ],
   "source": [
    "'''Q6. A company is interested in examining the relationship between the number of sales calls made per day\n",
    "and the number of sales made per week. The company collected data on both variables from a sample of\n",
    "30 sales representatives. Calculate the Pearson correlation coefficient between these two variables.'''\n",
    "#assuming the data for number of sales calls made per day and number of sales made per week are in the form of two lists\n",
    "import numpy as np\n",
    "np.random.seed(10)\n",
    "sales_calls=np.random.randint(1,10,30)\n",
    "sales_made=np.random.randint(1,10,30)\n",
    "#using pearson correalation coefficient formula\n",
    "std_sales_calls,std_sales_made=np.std(sales_calls),np.std(sales_made)\n",
    "cov_of_data=np.cov(sales_calls,sales_made)\n",
    "pearson=cov_of_data/(std_sales_calls*std_sales_made)\n",
    "print(pearson)\n",
    "pearson_stats=pearsonr(sales_calls,sales_made)  #using pearsonr function\n",
    "print(pearson_stats)\n",
    "#here the covariance is 0.1869103 which shows that the two variables are positively correlated\n",
    "#the p value is also greater than 0.05 which shows that correlation coefficient is not statistically significant at the 0.05 significance level\n",
    "#Therefore, you cannot conclude a significant linear relationship between the variables based on this analysis."
   ]
  },
  {
   "cell_type": "code",
   "execution_count": null,
   "metadata": {},
   "outputs": [],
   "source": []
  }
 ],
 "metadata": {
  "kernelspec": {
   "display_name": "Python 3",
   "language": "python",
   "name": "python3"
  },
  "language_info": {
   "codemirror_mode": {
    "name": "ipython",
    "version": 3
   },
   "file_extension": ".py",
   "mimetype": "text/x-python",
   "name": "python",
   "nbconvert_exporter": "python",
   "pygments_lexer": "ipython3",
   "version": "3.11.1"
  },
  "orig_nbformat": 4
 },
 "nbformat": 4,
 "nbformat_minor": 2
}
