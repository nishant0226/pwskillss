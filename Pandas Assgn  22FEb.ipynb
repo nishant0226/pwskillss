{
 "cells": [
  {
   "cell_type": "code",
   "execution_count": 16,
   "metadata": {},
   "outputs": [
    {
     "name": "stdout",
     "output_type": "stream",
     "text": [
      "0     4\n",
      "1     8\n",
      "2    15\n",
      "3    16\n",
      "4    23\n",
      "5    42\n",
      "Name: data, dtype: int64\n"
     ]
    },
    {
     "data": {
      "text/plain": [
       "pandas.core.series.Series"
      ]
     },
     "execution_count": 16,
     "metadata": {},
     "output_type": "execute_result"
    }
   ],
   "source": [
    "import pandas as pd \n",
    "d=pd.read_csv('assgn.csv')#if we turn the index_col=0 then in no way the type will be series until and unless the index and the data is printed \n",
    "d.columns\n",
    "a=d['data']\n",
    "print(a)\n",
    "type(a)"
   ]
  },
  {
   "cell_type": "code",
   "execution_count": 23,
   "metadata": {},
   "outputs": [
    {
     "data": {
      "text/plain": [
       "0     1\n",
       "1     2\n",
       "2     3\n",
       "3    54\n",
       "4     2\n",
       "5     3\n",
       "6     4\n",
       "7     5\n",
       "8     6\n",
       "9     3\n",
       "dtype: int64"
      ]
     },
     "execution_count": 23,
     "metadata": {},
     "output_type": "execute_result"
    }
   ],
   "source": [
    "list_variable=[1,2,3,54,2,3,4,5,6,3]#here the index_col=0 cannot be applied as the list is 1-D and also the variable b is is a pandas Series \n",
    "b=pd.Series(list_variable)          # object that has only one column, so index_col=0 is not applicable.\n",
    "b"
   ]
  },
  {
   "cell_type": "code",
   "execution_count": 36,
   "metadata": {},
   "outputs": [
    {
     "name": "stdout",
     "output_type": "stream",
     "text": [
      "     Name  Age  Gender\n",
      "0   Alice   25  Female\n",
      "1     Bob   30    Male\n",
      "2  Claire   27  Female\n"
     ]
    },
    {
     "data": {
      "text/html": [
       "<div>\n",
       "<style scoped>\n",
       "    .dataframe tbody tr th:only-of-type {\n",
       "        vertical-align: middle;\n",
       "    }\n",
       "\n",
       "    .dataframe tbody tr th {\n",
       "        vertical-align: top;\n",
       "    }\n",
       "\n",
       "    .dataframe thead th {\n",
       "        text-align: right;\n",
       "    }\n",
       "</style>\n",
       "<table border=\"1\" class=\"dataframe\">\n",
       "  <thead>\n",
       "    <tr style=\"text-align: right;\">\n",
       "      <th></th>\n",
       "      <th>Name</th>\n",
       "      <th>Age</th>\n",
       "    </tr>\n",
       "  </thead>\n",
       "  <tbody>\n",
       "    <tr>\n",
       "      <th>0</th>\n",
       "      <td>Alice</td>\n",
       "      <td>25</td>\n",
       "    </tr>\n",
       "    <tr>\n",
       "      <th>1</th>\n",
       "      <td>Bob</td>\n",
       "      <td>30</td>\n",
       "    </tr>\n",
       "    <tr>\n",
       "      <th>2</th>\n",
       "      <td>Claire</td>\n",
       "      <td>27</td>\n",
       "    </tr>\n",
       "  </tbody>\n",
       "</table>\n",
       "</div>"
      ],
      "text/plain": [
       "     Name  Age\n",
       "0   Alice   25\n",
       "1     Bob   30\n",
       "2  Claire   27"
      ]
     },
     "execution_count": 36,
     "metadata": {},
     "output_type": "execute_result"
    }
   ],
   "source": [
    "c=pd.read_csv('Q3.csv')\n",
    "print(c)\n",
    "type(c)\n",
    "c.dtypes\n",
    "list(c.columns)\n",
    "c[['Name','Age']]"
   ]
  },
  {
   "attachments": {},
   "cell_type": "markdown",
   "metadata": {},
   "source": [
    "In pandas, a DataFrame is a two-dimensional labeled data structure that consists of rows and columns, similar to a spreadsheet or a SQL table. It is a commonly used data structure for data analysis and manipulation in Python. Each column in a DataFrame can have a different data type (e.g., integers, floats, strings, or dates) and a label called a column name, and each row can have a label called an index.\n",
    "\n",
    "On the other hand, a Series is a one-dimensional labeled array that can hold any data type. It is similar to a column in a DataFrame and has an index label for each element in the array.\n",
    "\n",
    "Here's an example to illustrate the difference between a DataFrame and a Series:\n",
    "\n",
    "import pandas as pd\n",
    "\n",
    "# create a dictionary with sample data\n",
    "data = {\n",
    "    'name': ['Alice', 'Bob', 'Charlie', 'David'],\n",
    "    'age': [25, 30, 35, 40],\n",
    "    'country': ['USA', 'Canada', 'USA', 'Australia']\n",
    "}\n",
    "\n",
    "# create a DataFrame from the dictionary\n",
    "df = pd.DataFrame(data)\n",
    "\n",
    "# display the DataFrame\n",
    "print(df)\n",
    "\n",
    "Output:\n",
    "\n",
    "markdown\n",
    "\n",
    "      name  age    country\n",
    "0    Alice   25        USA\n",
    "1      Bob   30     Canada\n",
    "2  Charlie   35        USA\n",
    "3    David   40  Australia\n",
    "The above code creates a DataFrame with three columns (name, age, and country) and four rows. Each column has a label (column name), and each row has an index label (0, 1, 2, 3).\n",
    "\n",
    "Now, let's create a Series using the age column from the DataFrame:\n",
    "\n",
    "\n",
    "# create a Series from the age column of the DataFrame\n",
    "age_series = df['age']\n",
    "\n",
    "# display the Series\n",
    "print(age_series)\n",
    "Output:\n",
    "\n",
    "yaml\n",
    "\n",
    "0    25\n",
    "1    30\n",
    "2    35\n",
    "3    40\n",
    "Name: age, dtype: int64\n",
    "The above code creates a Series with the age column from the DataFrame. The Series has one column (age) and four rows, with each row having an index label (0, 1, 2, 3). Note that the Series has a label for the column (age), but the DataFrame has labels for both the columns and the rows.\n",
    "\n",
    "In summary, a DataFrame is a two-dimensional labeled data structure with both column and row labels, while a Series is a one-dimensional labeled array with only one column label."
   ]
  },
  {
   "attachments": {},
   "cell_type": "markdown",
   "metadata": {},
   "source": [
    "Pandas provides a variety of functions to manipulate data in a DataFrame. Some of the commonly used functions are:\n",
    "\n",
    "head() and tail(): To view the first 5 or last 5 few rows of the DataFrame respectively.\n",
    "\n",
    "import pandas as pd\n",
    "\n",
    "df = pd.read_csv('data.csv')\n",
    "\n",
    "# view the first five rows\n",
    "print(df.head())\n",
    "\n",
    "# view the last three rows\n",
    "print(df.tail(3))\n",
    "drop(): To remove rows or columns from the DataFrame.\n",
    "\n",
    "# remove the 'age' column from the DataFrame\n",
    "df = df.drop('age', axis=1)\n",
    "\n",
    "# remove the first row from the DataFrame\n",
    "df = df.drop(0)\n",
    "rename(): To rename columns in the DataFrame.\n",
    "\n",
    "# rename the 'age' column to 'years'\n",
    "df = df.rename(columns={'age': 'years'})\n",
    "sort_values(): To sort the DataFrame by one or more columns.\n",
    "\n",
    "# sort the DataFrame by the 'age' column\n",
    "df = df.sort_values(by='age')\n",
    "\n",
    "# sort the DataFrame by the 'age' and 'name' columns\n",
    "df = df.sort_values(by=['age', 'name'])\n",
    "groupby(): To group the DataFrame by one or more columns and perform aggregation functions.\n",
    "\n",
    "# group the DataFrame by the 'country' column and calculate the mean age\n",
    "df_grouped = df.groupby('country')['age'].mean()\n",
    "\n",
    "# group the DataFrame by the 'country' and 'gender' columns and calculate the sum of 'salary'\n",
    "df_grouped = df.groupby(['country', 'gender'])['salary'].sum()\n",
    "fillna(): To fill missing values in the DataFrame with a specified value.\n",
    "\n",
    "# fill missing values in the 'age' column with the mean age\n",
    "df['age'] = df['age'].fillna(df['age'].mean())\n",
    "\n",
    "# fill missing values in the 'country' column with 'Unknown'\n",
    "df['country'] = df['country'].fillna('Unknown')\n",
    "These are just a few examples of the many functions available in pandas to manipulate data in a DataFrame. The specific function you use will depend on the type of data you have and the task you are trying to accomplish."
   ]
  },
  {
   "cell_type": "code",
   "execution_count": 68,
   "metadata": {},
   "outputs": [
    {
     "name": "stdout",
     "output_type": "stream",
     "text": [
      "   Name  Age    Country\n",
      "0  John   25        USA\n",
      "1  Jane   30     Canada\n",
      "2  Jack   35  Australia\n",
      "3  Jill   40         UK\n"
     ]
    }
   ],
   "source": [
    "import pandas as pd\n",
    "\n",
    "# create the first Series\n",
    "names = pd.Series(['John', 'Jane', 'Jack', 'Jill'])\n",
    "\n",
    "# create the second Series\n",
    "ages = pd.Series([25, 30, 35, 40])\n",
    "\n",
    "# create the third Series\n",
    "countries = pd.Series(['USA', 'Canada', 'Australia', 'UK'])\n",
    "\n",
    "# concatenate the Series along the columns axis to create a DataFrame\n",
    "df = pd.concat([names, ages, countries], axis=1)\n",
    "\n",
    "# add column names to the DataFrame\n",
    "df.columns = ['Name', 'Age', 'Country']\n",
    "\n",
    "# display the resulting DataFrame\n",
    "print(df)\n"
   ]
  },
  {
   "cell_type": "code",
   "execution_count": null,
   "metadata": {},
   "outputs": [],
   "source": []
  }
 ],
 "metadata": {
  "kernelspec": {
   "display_name": "Python 3",
   "language": "python",
   "name": "python3"
  },
  "language_info": {
   "codemirror_mode": {
    "name": "ipython",
    "version": 3
   },
   "file_extension": ".py",
   "mimetype": "text/x-python",
   "name": "python",
   "nbconvert_exporter": "python",
   "pygments_lexer": "ipython3",
   "version": "3.11.1"
  },
  "orig_nbformat": 4
 },
 "nbformat": 4,
 "nbformat_minor": 2
}
