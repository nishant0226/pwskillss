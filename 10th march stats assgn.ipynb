{
 "cells": [
  {
   "cell_type": "code",
   "execution_count": null,
   "metadata": {},
   "outputs": [],
   "source": [
    "'''Q1: What is Estimation Statistics? Explain point estimate and interval estimate.\n",
    "\n",
    "Q2. Write a Python function to estimate the population mean using a sample mean and standard\n",
    "deviation.\n",
    "\n",
    "Q3: What is Hypothesis testing? Why is it used? State the importance of Hypothesis testing.\n",
    "\n",
    "Q4. Create a hypothesis that states whether the average weight of male college students is greater than\n",
    "the average weight of female college students.\n",
    "\n",
    "Q5. Write a Python script to conduct a hypothesis test on the difference between two population means,\n",
    "given a sample from each population.\n",
    "\n",
    "Q6: What is a null and alternative hypothesis? Give some examples.\n",
    "\n",
    "Q7: Write down the steps involved in hypothesis testing.\n",
    "\n",
    "Q8. Define p-value and explain its significance in hypothesis testing.\n",
    "\n",
    "Q9. Generate a Student's t-distribution plot using Python's matplotlib library, with the degrees of freedom\n",
    "parameter set to 10.\n",
    "\n",
    "Q10. Write a Python program to calculate the two-sample t-test for independent samples, given two\n",
    "random samples of equal size and a null hypothesis that the population means are equal.\n",
    "\n",
    "Q11: What is Student’s t distribution? When to use the t-Distribution.\n",
    "\n",
    "Q12: What is t-statistic? State the formula for t-statistic.\n",
    "\n",
    "Q13. A coffee shop owner wants to estimate the average daily revenue for their shop. They take a random\n",
    "sample of 50 days and find the sample mean revenue to be $500 with a standard deviation of $50.\n",
    "Estimate the population mean revenue with a 95% confidence interval.\n",
    "\n",
    "Q14. A researcher hypothesizes that a new drug will decrease blood pressure by 10 mmHg. They conduct a\n",
    "clinical trial with 100 patients and find that the sample mean decrease in blood pressure is 8 mmHg with a\n",
    "standard deviation of 3 mmHg. Test the hypothesis with a significance level of 0.05.\n",
    "\n",
    "Q15. An electronics company produces a certain type of product with a mean weight of 5 pounds and a\n",
    "standard deviation of 0.5 pounds. A random sample of 25 products is taken, and the sample mean weight\n",
    "is found to be 4.8 pounds. Test the hypothesis that the true mean weight of the products is less than 5\n",
    "pounds with a significance level of 0.01.\n",
    "\n",
    "Q16. Two groups of students are given different study materials to prepare for a test. The first group (n1 =\n",
    "30) has a mean score of 80 with a standard deviation of 10, and the second group (n2 = 40) has a mean\n",
    "score of 75 with a standard deviation of 8. Test the hypothesis that the population means for the two\n",
    "groups are equal with a significance level of 0.01.\n",
    "\n",
    "Q17. A marketing company wants to estimate the average number of ads watched by viewers during a TV\n",
    "program. They take a random sample of 50 viewers and find that the sample mean is 4 with a standard\n",
    "deviation of 1.5. Estimate the population mean with a 99% confidence interval.'''"
   ]
  },
  {
   "attachments": {},
   "cell_type": "markdown",
   "metadata": {},
   "source": [
    "Estimation statistics is a branch of statistics that deals with estimating population parameters based on sample data. When we have limited information about a population, we can use estimation techniques to make inferences or draw conclusions about the population based on the sample data.\n",
    "\n",
    "Point Estimate:\n",
    "A point estimate is a single value that is used to estimate an unknown population parameter. It is obtained by using a statistic, such as the sample mean or sample proportion, as an estimate of the corresponding population parameter. For example, if we want to estimate the population mean height of adults, we can calculate the sample mean height from a representative sample and use it as a point estimate of the population mean.\n",
    "\n",
    "Interval Estimate:\n",
    "An interval estimate, also known as a confidence interval, is a range of values that is likely to contain the true population parameter. Unlike a point estimate that provides a single value, an interval estimate provides a range within which the population parameter is expected to lie with a certain level of confidence. The confidence level represents the probability that the interval estimate will contain the true parameter. Commonly used confidence levels are 90%, 95%, and 99%.\n",
    "\n",
    "For example, if we want to estimate the average salary of employees in a company, we can calculate a confidence interval based on a sample mean and the sample's standard deviation. The resulting interval estimate might be something like \"the average salary of the employees is estimated to be between $40,000 and $50,000 with 95% confidence.\" This means that if we were to repeat the sampling process and construct 100 confidence intervals, approximately 95 of them would contain the true population parameter.\n",
    "\n",
    "Interval estimates provide a range of values, which gives a measure of the uncertainty associated with the estimate. The width of the interval depends on various factors such as the sample size, variability of the data, and the chosen confidence level. A larger sample size or a higher confidence level will result in a narrower interval estimate."
   ]
  },
  {
   "attachments": {},
   "cell_type": "markdown",
   "metadata": {},
   "source": [
    "import math\n",
    "\n",
    "def estimate_population_mean(sample_mean, sample_std_dev, sample_size):\n",
    "    # Calculate the standard error\n",
    "    standard_error = sample_std_dev / math.sqrt(sample_size)\n",
    "    \n",
    "    # Calculate the margin of error (assuming a 95% confidence level)\n",
    "    margin_of_error = 1.96 * standard_error\n",
    "    \n",
    "    # Calculate the lower and upper bounds of the confidence interval\n",
    "    lower_bound = sample_mean - margin_of_error\n",
    "    upper_bound = sample_mean + margin_of_error\n",
    "    \n",
    "    # Return the estimated population mean and the confidence interval\n",
    "    return sample_mean, lower_bound, upper_bound\n"
   ]
  },
  {
   "attachments": {},
   "cell_type": "markdown",
   "metadata": {},
   "source": [
    "Hypothesis testing is a statistical method used to make inferences about population parameters based on sample data. It involves formulating a hypothesis about the population parameter and testing it using sample evidence.\n",
    "\n",
    "The primary purpose of hypothesis testing is to evaluate the validity of a claim or hypothesis about a population based on the available sample data. It helps us make decisions or draw conclusions by providing a structured framework to assess the evidence against a stated hypothesis.\n",
    "\n",
    "The importance of hypothesis testing can be summarized as follows:\n",
    "\n",
    "Decision-making: Hypothesis testing provides a systematic approach to decision-making in situations where we have limited information about a population. It allows us to determine whether the evidence supports a particular claim or hypothesis.\n",
    "\n",
    "Scientific inquiry: Hypothesis testing is a fundamental tool in scientific research. It enables researchers to test theories, evaluate competing hypotheses, and contribute to the advancement of knowledge in various fields.\n",
    "\n",
    "Objectivity and rigor: Hypothesis testing offers a structured and objective approach to evaluating claims. It helps remove personal biases and ensures that conclusions are based on statistical evidence rather than subjective opinions.\n",
    "\n",
    "Control of errors: Hypothesis testing helps control two types of errors: Type I error (rejecting a true null hypothesis) and Type II error (failing to reject a false null hypothesis). By defining a significance level (alpha) and calculating p-values, we can manage the risk of these errors and make informed decisions.\n",
    "\n",
    "Confidence and generalization: Through hypothesis testing, we can assess the generalizability of our findings. By establishing confidence intervals or determining statistical significance, we can infer whether the results are likely to hold true for the broader population.\n",
    "\n",
    "Statistical inference: Hypothesis testing is an essential component of statistical inference. It allows us to draw conclusions about population parameters based on sample data and quantify the uncertainty associated with those conclusions.\n",
    "\n",
    "Overall, hypothesis testing provides a systematic and rigorous framework for making informed decisions, evaluating claims, and drawing meaningful conclusions based on statistical evidence. It plays a crucial role in scientific research, decision-making, and the advancement of knowledge in various disciplines."
   ]
  },
  {
   "attachments": {},
   "cell_type": "markdown",
   "metadata": {},
   "source": [
    "Null Hypothesis (H0) should be The average weight of male college students is greater than the average weight of female college students.\n",
    "\n",
    "Alternative Hypothesis (Ha) should be The average weight of male college students is equal to or less than the average weight of female college students "
   ]
  },
  {
   "attachments": {},
   "cell_type": "markdown",
   "metadata": {},
   "source": [
    "Q5. Here's a Python script to conduct a hypothesis test on the difference between two population means, given a sample from each population:\n",
    "\n",
    "import numpy as np\n",
    "from scipy import stats\n",
    "\n",
    "def conduct_hypothesis_test(sample1, sample2, alpha):\n",
    "    # Compute the sample means\n",
    "    mean1 = np.mean(sample1)\n",
    "    mean2 = np.mean(sample2)\n",
    "    \n",
    "    # Compute the sample standard deviations\n",
    "    std_dev1 = np.std(sample1)\n",
    "    std_dev2 = np.std(sample2)\n",
    "    \n",
    "    # Compute the test statistic (assuming equal variances)\n",
    "    n1 = len(sample1)\n",
    "    n2 = len(sample2)\n",
    "    pooled_std_dev = np.sqrt(((n1 - 1) * std_dev1 ** 2 + (n2 - 1) * std_dev2 ** 2) / (n1 + n2 - 2))\n",
    "    t_statistic = (mean1 - mean2) / (pooled_std_dev * np.sqrt(1 / n1 + 1 / n2))\n",
    "    \n",
    "    # Compute the degrees of freedom\n",
    "    degrees_of_freedom = n1 + n2 - 2\n",
    "    \n",
    "    # Compute the critical value based on the significance level (alpha)\n",
    "    critical_value = stats.t.ppf(1 - alpha, degrees_of_freedom)\n",
    "    \n",
    "    # Compare the test statistic with the critical value and determine the conclusion\n",
    "    if t_statistic > critical_value:\n",
    "        conclusion = \"Reject the null hypothesis\"\n",
    "    else:\n",
    "        conclusion = \"Fail to reject the null hypothesis\"\n",
    "    \n",
    "    return t_statistic, critical_value, conclusion\n",
    "This script uses the independent two-sample t-test assuming equal variances. It calculates the test statistic, critical value, and compares them to make a conclusion about the null hypothesis.\n",
    "\n",
    "To use this script, provide the two samples as lists or arrays (sample1 and sample2), and the significance level (alpha). It will return the calculated t-statistic, critical value, and the conclusion about the null hypothesis.\n",
    "\n",
    "Q6. In hypothesis testing, the null hypothesis (H0) is a statement of no effect, no difference, or no relationship between variables. It represents the default assumption or the status quo. The alternative hypothesis (Ha) is a statement that contradicts the null hypothesis and represents the claim or the desired effect, difference, or relationship.\n",
    "\n",
    "Examples:\n",
    "\n",
    "Null Hypothesis: The mean test score of students who attend tutoring classes is equal to or higher than the mean test score of students who do not attend tutoring classes.\n",
    "Alternative Hypothesis: The mean test score of students who attend tutoring classes is lower than the mean test score of students who do not attend tutoring classes.\n",
    "\n",
    "Null Hypothesis: There is no significant difference in customer satisfaction ratings before and after implementing a new customer service training program.\n",
    "Alternative Hypothesis: Customer satisfaction ratings have significantly increased after implementing a new customer service training program.\n",
    "\n",
    "Q7. The steps involved in hypothesis testing are as follows:\n",
    "\n",
    "Formulate the hypotheses: State the null hypothesis (H0) and the alternative hypothesis (Ha) based on the research question or claim.\n",
    "\n",
    "Set the significance level (alpha): Determine the level of significance that defines the threshold for rejecting the null hypothesis. Common values are 0.05 (5%) and 0.01 (1%).\n",
    "\n",
    "Collect and analyze the data: Gather the necessary data through sampling or experimentation. Perform the appropriate statistical analysis based on the nature of the data and the hypothesis being tested.\n",
    "\n",
    "Compute the test statistic: Calculate the test statistic specific to the chosen statistical test, which quantifies the difference or relationship between variables.\n",
    "\n",
    "Determine the critical value or p-value: Based on the chosen significance level, find the critical value from the corresponding statistical distribution or calculate the p-value, which represents the probability of obtaining the observed data under the assumption of the null hypothesis.\n",
    "\n",
    "Make a decision: Compare the test statistic with the critical value or compare the p-value with the significance level. If the test statistic falls in the critical region or the p-value is less than the significance level, reject the null hypothesis. Otherwise, fail to reject the null hypothesis.\n",
    "\n",
    "Draw conclusions: State the conclusion in the context of the research question, considering the decision made in the previous step. Interpret the results and provide insights based on the evidence obtained from the hypothesis test.\n",
    "\n",
    "Q8. The p-value is a statistical measure used in hypothesis testing to quantify the strength of evidence against the null hypothesis. It represents the probability of obtaining the observed data or more extreme data, assuming that the null hypothesis is true.\n",
    "\n",
    "The significance of the p-value in hypothesis testing can be understood as follows:\n",
    "\n",
    "If the p-value is small (typically less than the chosen significance level), it indicates strong evidence against the null hypothesis. It suggests that the observed data is unlikely to occur by chance alone if the null hypothesis is true. In such cases, the null hypothesis is often rejected in favor of the alternative hypothesis.\n",
    "\n",
    "If the p-value is large (greater than the chosen significance level), it indicates weak evidence against the null hypothesis. It suggests that the observed data is reasonably likely to occur by chance alone if the null hypothesis is true. In such cases, the null hypothesis is typically not rejected.\n",
    "\n",
    "The choice of the significance level (alpha) determines the threshold for determining statistical significance. Commonly used significance levels are 0.05 (5%) and 0.01 (1%). If the p-value is less than or equal to the significance level, it is considered statistically significant, and the null hypothesis is rejected. If the p-value is greater than the significance level, it is considered not statistically significant, and the null hypothesis is not rejected."
   ]
  },
  {
   "cell_type": "code",
   "execution_count": 6,
   "metadata": {},
   "outputs": [
    {
     "data": {
      "image/png": "[encoded data removed]",
      "text/plain": [
       "<Figure size 640x480 with 1 Axes>"
      ]
     },
     "metadata": {},
     "output_type": "display_data"
    }
   ],
   "source": [
    "'''Q9. Generate a Student's t-distribution plot using Python's matplotlib library, with the degrees of freedom\n",
    "parameter set to 10.'''\n",
    "import numpy as np\n",
    "import matplotlib.pyplot as plt\n",
    "from scipy.stats import t\n",
    "\n",
    "# Set the degrees of freedom\n",
    "df = 10\n",
    "\n",
    "# Generate x values\n",
    "x = np.linspace(-4, 4, 1000)\n",
    "\n",
    "# Calculate the corresponding y values from the t-distribution\n",
    "y = t.pdf(x, df)\n",
    "\n",
    "# Plot the t-distribution\n",
    "plt.plot(x, y, label='t-distribution (df = 10)')\n",
    "plt.xlabel('x')\n",
    "plt.ylabel('Probability Density')\n",
    "plt.title(\"Student's t-distribution\")\n",
    "plt.legend()\n",
    "plt.grid(True)\n",
    "plt.show()\n"
   ]
  },
  {
   "cell_type": "code",
   "execution_count": 7,
   "metadata": {},
   "outputs": [
    {
     "name": "stdout",
     "output_type": "stream",
     "text": [
      "PDF at x = 1.5 is 0.12951759566589174\n"
     ]
    }
   ],
   "source": [
    "import numpy as np\n",
    "from scipy.stats import norm\n",
    "\n",
    "# Define the parameters of the normal distribution\n",
    "mean = 0\n",
    "std_dev = 1\n",
    "\n",
    "# Calculate the PDF at a specific value\n",
    "x = 1.5\n",
    "pdf_value = norm.pdf(x, mean, std_dev)\n",
    "\n",
    "print(\"PDF at x =\", x, \"is\", pdf_value)\n"
   ]
  },
  {
   "cell_type": "code",
   "execution_count": 18,
   "metadata": {},
   "outputs": [
    {
     "name": "stdout",
     "output_type": "stream",
     "text": [
      "514.2098427561186\n"
     ]
    }
   ],
   "source": [
    "import scipy.stats as stats\n",
    "import math\n",
    "n=50\n",
    "\n",
    "sample_mean=500\n",
    "s=50\n",
    "confidence_level = 0.95\n",
    "df = n - 1\n",
    "t = stats.t.ppf((1 + confidence_level) / 2, df)\n",
    "ci=sample_mean+(t*s/math.sqrt(n))\n",
    "print(ci)"
   ]
  },
  {
   "cell_type": "code",
   "execution_count": 19,
   "metadata": {},
   "outputs": [
    {
     "name": "stdout",
     "output_type": "stream",
     "text": [
      "1.9842169515086827\n",
      "-6.666666666666667\n",
      "Fail to reject Null Hypothesis\n"
     ]
    }
   ],
   "source": [
    "'''Q14. A researcher hypothesizes that a new drug will decrease blood pressure by 10 mmHg. They conduct a\n",
    "clinical trial with 100 patients and find that the sample mean decrease in blood pressure is 8 mmHg with a\n",
    "standard deviation of 3 mmHg. Test the hypothesis with a significance level of 0.05.'''\n",
    "import numpy as np\n",
    "from scipy.stats import t\n",
    "import math\n",
    "#H0:The new drug will decrease blood pressure by 10 mmHg\n",
    "#H1:The new drug will not decrease blood pressure by 10 mmHg\n",
    "pop_mean=10\n",
    "n=100\n",
    "sam_mean=8\n",
    "s=3\n",
    "alpha=0.05\n",
    "df=n-1\n",
    "t=t.ppf(1-alpha/2,df)\n",
    "print(t)\n",
    "t_stat=(sam_mean-pop_mean)/(s/math.sqrt(n))\n",
    "print(t_stat)\n",
    "if t_stat>t:\n",
    "    print(\"Reject Null Hypothesis\")\n",
    "else:\n",
    "    print(\"Fail to reject Null Hypothesis\")\n",
    "    "
   ]
  },
  {
   "cell_type": "code",
   "execution_count": 23,
   "metadata": {},
   "outputs": [
    {
     "name": "stdout",
     "output_type": "stream",
     "text": [
      "2.4921594731575762\n",
      "-2.0000000000000018\n",
      "Fail to reject Null Hypothesis\n"
     ]
    }
   ],
   "source": [
    "'''Q15. An electronics company produces a certain type of product with a mean weight of 5 pounds and a\n",
    "standard deviation of 0.5 pounds. A random sample of 25 products is taken, and the sample mean weight\n",
    "is found to be 4.8 pounds. Test the hypothesis that the true mean weight of the products is less than 5\n",
    "pounds with a significance level of 0.01.'''\n",
    "import numpy as np\n",
    "from scipy.stats import t\n",
    "import math\n",
    "#H0:Weight of product is less than 5 pounds \n",
    "#H1:Weight of product is not less than 5 pounds \n",
    "pop_mean=5\n",
    "pop_std=0.5\n",
    "df=24\n",
    "n=25\n",
    "sam_mean=4.8\n",
    "alpha=0.01\n",
    "t=t.ppf(1-alpha,df)\n",
    "print(t)\n",
    "t_stat=(sam_mean-pop_mean)/(pop_std/math.sqrt(n))\n",
    "print(t_stat)\n",
    "if t_stat>t:\n",
    "    print(\"Reject Null Hypothesis\")\n",
    "else:\n",
    "    print(\"Fail to reject Null Hypothesis\")\n",
    "    \n"
   ]
  },
  {
   "cell_type": "code",
   "execution_count": 28,
   "metadata": {},
   "outputs": [
    {
     "name": "stdout",
     "output_type": "stream",
     "text": [
      "2.3824458008642413\n",
      "0.2609068339642088\n",
      "Fail to reject Null Hypothesis\n"
     ]
    }
   ],
   "source": [
    "'''Q16. Two groups of students are given different study materials to prepare for a test. The first group (n1 =\n",
    "30) has a mean score of 80 with a standard deviation of 10, and the second group (n2 = 40) has a mean\n",
    "score of 75 with a standard deviation of 8. Test the hypothesis that the population means for the two\n",
    "groups are equal with a significance level of 0.01.'''\n",
    "import numpy as np\n",
    "from scipy.stats import t\n",
    "import math\n",
    "#H0:Population means for the two groups are equal\n",
    "#H1:Population means for the two groups are not equal\n",
    "n1=30\n",
    "n2=40\n",
    "sam_mean1=80\n",
    "sam_mean2=75\n",
    "s1=10\n",
    "s2=8\n",
    "alpha=0.01\n",
    "df=n1+n2-2\n",
    "t=t.ppf(1-alpha,df)\n",
    "print(t)\n",
    "t_stat=math.sqrt((n1-1)*(s1**2)+(n2-1)*(s2**2))/(n1+n2-2)*math.sqrt(1/n1+1/n2)\n",
    "print(t_stat)\n",
    "if t_stat>t:\n",
    "    print(\"Reject Null Hypothesis\")\n",
    "else:\n",
    "    print(\"Fail to reject Null Hypothesis\")\n"
   ]
  },
  {
   "cell_type": "code",
   "execution_count": 31,
   "metadata": {},
   "outputs": [
    {
     "name": "stdout",
     "output_type": "stream",
     "text": [
      "4.510154581382596\n"
     ]
    }
   ],
   "source": [
    "'''Q17. A marketing company wants to estimate the average number of ads watched by viewers during a TV\n",
    "program. They take a random sample of 50 viewers and find that the sample mean is 4 with a standard\n",
    "deviation of 1.5. Estimate the population mean with a 99% confidence interval.'''\n",
    "import numpy as np \n",
    "from scipy.stats import t\n",
    "import math\n",
    "n=50\n",
    "df=49\n",
    "sam_mean=4\n",
    "sam_std=1.5\n",
    "alpha=0.01\n",
    "t=stats.t.ppf(1-alpha,df)\n",
    "marginal=t*(sam_std/math.sqrt(n))\n",
    "ci=sam_mean+marginal\n",
    "print(ci)"
   ]
  }
 ],
 "metadata": {
  "kernelspec": {
   "display_name": "Python 3",
   "language": "python",
   "name": "python3"
  },
  "language_info": {
   "codemirror_mode": {
    "name": "ipython",
    "version": 3
   },
   "file_extension": ".py",
   "mimetype": "text/x-python",
   "name": "python",
   "nbconvert_exporter": "python",
   "pygments_lexer": "ipython3",
   "version": "3.11.1"
  },
  "orig_nbformat": 4
 },
 "nbformat": 4,
 "nbformat_minor": 2
}
