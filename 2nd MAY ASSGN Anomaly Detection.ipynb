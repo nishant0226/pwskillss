{
 "cells": [
  {
   "cell_type": "markdown",
   "metadata": {},
   "source": [
    "> Q1. What is anomaly detection and what is its purpose?\n",
    "\n",
    "Anomaly detection, also known as outlier detection, is a data analysis technique aimed at identifying patterns in data that do not conform to expected behavior. Its purpose is to identify rare, unusual, or anomalous data points or events within a dataset. Anomaly detection is used in various domains, including fraud detection, network security, quality control, and healthcare, to uncover deviations from normal behavior.\n",
    "\n",
    "> Q2. What are the key challenges in anomaly detection?\n",
    "\n",
    "Key challenges in anomaly detection include:\n",
    "\n",
    "Lack of labeled data: Anomalies are often rare, making it challenging to have sufficient labeled examples for supervised learning.\n",
    "\n",
    "Data imbalance: Anomalies are typically a minority class, leading to imbalanced datasets.\n",
    "\n",
    "Evolving data: Data distributions may change over time, requiring models to adapt.\n",
    "\n",
    "High-dimensional data: Anomalies are harder to detect in high-dimensional spaces.\n",
    "\n",
    "Interpretability: Understanding why a data point is flagged as an anomaly can be difficult.\n",
    "\n",
    "Scalability: Handling large datasets efficiently can be a challenge.\n",
    "\n",
    "> Q3. How does unsupervised anomaly detection differ from supervised anomaly detection?\n",
    "\n",
    "Unsupervised anomaly detection does not require labeled data and aims to identify anomalies based solely on the characteristics of the data itself. It seeks to discover patterns that deviate from the norm in an unsupervised manner. In contrast, supervised anomaly detection relies on labeled examples of both normal and anomalous data to train a model, making it a supervised classification problem.\n",
    "\n",
    "> Q4. What are the main categories of anomaly detection algorithms?\n",
    "\n",
    "Anomaly detection algorithms can be categorized into several types:\n",
    "\n",
    "Statistical methods: Based on statistical properties of the data, such as the Gaussian distribution.\n",
    "\n",
    "Machine learning algorithms: Including Isolation Forest, One-Class SVM, and k-Nearest Neighbors (KNN).\n",
    "\n",
    "Clustering methods: Anomalies are points far from cluster centers.\n",
    "\n",
    "Density estimation techniques: Such as kernel density estimation and Gaussian Mixture Models.\n",
    "\n",
    "Time series methods: Specialized techniques for detecting anomalies in time series data.\n",
    "\n",
    "> Q5. What are the main assumptions made by distance-based anomaly detection methods?\n",
    "\n",
    "Distance-based anomaly detection methods assume that anomalies are far from the majority of data points in feature space. The key assumptions include:\n",
    "\n",
    "Anomalies are sparse and isolated.\n",
    "\n",
    "Anomalies have a higher distance (dissimilarity) from other data points.\n",
    "\n",
    "Normal data points are concentrated in dense regions.\n",
    "\n",
    "> Q6. How does the LOF algorithm compute anomaly scores?\n",
    "\n",
    "The LOF (Local Outlier Factor) algorithm computes anomaly scores for data points based on their local density compared to the density of their neighbors. A lower LOF score indicates a more anomalous data point, and a higher score indicates a more typical data point. LOF calculates the ratio of the local reachability density of a data point to the average reachability density of its k-nearest neighbors.\n",
    "\n",
    "\n",
    "> Q7. What are the key parameters of the Isolation Forest algorithm?\n",
    "\n",
    "The key parameters of the Isolation Forest algorithm include:\n",
    "\n",
    "Number of trees (n_estimators): The number of isolation trees in the forest.\n",
    "\n",
    "Maximum tree depth (max_depth): The maximum depth allowed for each isolation tree.\n",
    "\n",
    "Sample size for tree construction (max_samples): The number of data points to use when constructing each tree.\n",
    "\n",
    "Contamination: The expected proportion of anomalies in the dataset, used to set a threshold for anomaly classification."
   ]
  },
  {
   "cell_type": "code",
   "execution_count": 27,
   "metadata": {},
   "outputs": [
    {
     "ename": "NameError",
     "evalue": "name 'neighbor_1' is not defined",
     "output_type": "error",
     "traceback": [
      "\u001b[1;31m---------------------------------------------------------------------------\u001b[0m",
      "\u001b[1;31mNameError\u001b[0m                                 Traceback (most recent call last)",
      "\u001b[1;32mc:\\Users\\Rana\\Desktop\\pwskills\\2nd-3rd May Anomaly Detection isolation forest\\2nd MAY ASSGN Anomaly Detection.ipynb Cell 2\u001b[0m line \u001b[0;36m6\n\u001b[0;32m      <a href='vscode-notebook-cell:/c%3A/Users/Rana/Desktop/pwskills/2nd-3rd%20May%20Anomaly%20Detection%20isolation%20forest/2nd%20MAY%20ASSGN%20Anomaly%20Detection.ipynb#X11sZmlsZQ%3D%3D?line=2'>3</a>\u001b[0m \u001b[39mimport\u001b[39;00m \u001b[39mnumpy\u001b[39;00m \u001b[39mas\u001b[39;00m \u001b[39mnp\u001b[39;00m\n\u001b[0;32m      <a href='vscode-notebook-cell:/c%3A/Users/Rana/Desktop/pwskills/2nd-3rd%20May%20Anomaly%20Detection%20isolation%20forest/2nd%20MAY%20ASSGN%20Anomaly%20Detection.ipynb#X11sZmlsZQ%3D%3D?line=4'>5</a>\u001b[0m \u001b[39m# Calculate the distance to the two neighbors\u001b[39;00m\n\u001b[1;32m----> <a href='vscode-notebook-cell:/c%3A/Users/Rana/Desktop/pwskills/2nd-3rd%20May%20Anomaly%20Detection%20isolation%20forest/2nd%20MAY%20ASSGN%20Anomaly%20Detection.ipynb#X11sZmlsZQ%3D%3D?line=5'>6</a>\u001b[0m distance_to_neighbor_1 \u001b[39m=\u001b[39m np\u001b[39m.\u001b[39mlinalg\u001b[39m.\u001b[39mnorm(data_point \u001b[39m-\u001b[39m neighbor_1)\n\u001b[0;32m      <a href='vscode-notebook-cell:/c%3A/Users/Rana/Desktop/pwskills/2nd-3rd%20May%20Anomaly%20Detection%20isolation%20forest/2nd%20MAY%20ASSGN%20Anomaly%20Detection.ipynb#X11sZmlsZQ%3D%3D?line=6'>7</a>\u001b[0m distance_to_neighbor_2 \u001b[39m=\u001b[39m np\u001b[39m.\u001b[39mlinalg\u001b[39m.\u001b[39mnorm(data_point \u001b[39m-\u001b[39m neighbor_2)\n\u001b[0;32m      <a href='vscode-notebook-cell:/c%3A/Users/Rana/Desktop/pwskills/2nd-3rd%20May%20Anomaly%20Detection%20isolation%20forest/2nd%20MAY%20ASSGN%20Anomaly%20Detection.ipynb#X11sZmlsZQ%3D%3D?line=8'>9</a>\u001b[0m \u001b[39m# Calculate the anomaly score\u001b[39;00m\n",
      "\u001b[1;31mNameError\u001b[0m: name 'neighbor_1' is not defined"
     ]
    }
   ],
   "source": [
    "'''Q8. If a data point has only 2 neighbours of the same class within a radius of 0.5, what is its anomaly score\n",
    "using KNN with K=10?'''\n",
    "import numpy as np\n",
    "\n",
    "# Calculate the distance to the two neighbors\n",
    "distance_to_neighbor_1 = np.linalg.norm(data_point - neighbor_1)\n",
    "distance_to_neighbor_2 = np.linalg.norm(data_point - neighbor_2)\n",
    "\n",
    "# Calculate the anomaly score\n",
    "anomaly_score = (distance_to_neighbor_1 + distance_to_neighbor_2) / 2\n",
    "\n",
    "# Print the anomaly score\n",
    "print(anomaly_score)"
   ]
  },
  {
   "cell_type": "code",
   "execution_count": 18,
   "metadata": {},
   "outputs": [
    {
     "name": "stdout",
     "output_type": "stream",
     "text": [
      "Anomaly score for a data point that has an average path length of 5.0 compared to the average path length of the trees is:  -0.11952103158645955\n"
     ]
    }
   ],
   "source": [
    "'''Q9. Using the Isolation Forest algorithm with 100 trees and a dataset of 3000 data points, what is the\n",
    "anomaly score for a data point that has an average path length of 5.0 compared to the average path\n",
    "length of the trees?'''\n",
    "from sklearn.ensemble import IsolationForest\n",
    "from sklearn.datasets import make_blobs\n",
    "X, y = make_blobs(n_samples=3000, n_features=2, centers=2, random_state=42)\n",
    "clf=IsolationForest(n_estimators=100, max_samples=3000, contamination=0.1, random_state=42)\n",
    "clf.fit(X)\n",
    "average_path_length=5.0\n",
    "anomaly_score = clf.decision_function([[average_path_length,average_path_length]])[0]\n",
    "print(\"Anomaly score for a data point that has an average path length of 5.0 compared to the average path length of the trees is: \",anomaly_score)"
   ]
  },
  {
   "cell_type": "code",
   "execution_count": null,
   "metadata": {},
   "outputs": [],
   "source": []
  }
 ],
 "metadata": {
  "kernelspec": {
   "display_name": "Python 3",
   "language": "python",
   "name": "python3"
  },
  "language_info": {
   "codemirror_mode": {
    "name": "ipython",
    "version": 3
   },
   "file_extension": ".py",
   "mimetype": "text/x-python",
   "name": "python",
   "nbconvert_exporter": "python",
   "pygments_lexer": "ipython3",
   "version": "3.11.5"
  },
  "orig_nbformat": 4
 },
 "nbformat": 4,
 "nbformat_minor": 2
}
