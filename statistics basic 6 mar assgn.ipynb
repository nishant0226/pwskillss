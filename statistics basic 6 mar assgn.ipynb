{
 "cells": [
  {
   "cell_type": "code",
   "execution_count": 1,
   "metadata": {},
   "outputs": [
    {
     "data": {
      "text/plain": [
       "' the science of collecting organizing and analyzing the data is known as statistics '"
      ]
     },
     "execution_count": 1,
     "metadata": {},
     "output_type": "execute_result"
    }
   ],
   "source": [
    "'''Q1. What is Statistics?'''\n",
    "''' the science of collecting organizing and analyzing the data is known as statistics It is used to understand and make sense of numerical information, \n",
    "and to draw conclusions or make predictions based on that information.'''"
   ]
  },
  {
   "cell_type": "code",
   "execution_count": null,
   "metadata": {},
   "outputs": [],
   "source": [
    "'''Q2. Define the different types of statistics and give an example of when each type might be used.'''\n",
    "'''there are two types of statistics \n",
    "1. Descriptive Stats it is to organizing and summarizing the data\n",
    "for ex: weight of  students in a class can be mesaured using mean median mode variance range std and percentiles \n",
    "2. Inferential Stats it is to make conclusions from the data we have measured a sample data to be precise\n",
    "for ex: an ice cream company created a new flavor of ice cream so by taking review from a small amount of audience we can predict or conclude\n",
    "how well that flavor is goign to perform  By using statistical techniques such as hypothesis testing, \n",
    "confidence intervals, and regression analysis'''"
   ]
  },
  {
   "cell_type": "code",
   "execution_count": null,
   "metadata": {},
   "outputs": [],
   "source": [
    "'''Q3. What are the different types of data and how do they differ from each other? Provide an example of\n",
    "each type of data.\n",
    "\n",
    "1. Quantitaive Data which can be further classified into continuous and discrete data \n",
    "2. Qualitative Data which can be further classified into nominal and Ordenal Data\n",
    "\n",
    "Quantitative data: Quantitative data is data that can be measured or counted, and it can be further classified into continuous and discrete data.\n",
    "\n",
    "Continuous data: Continuous data is data that can take any value within a range, and it can be measured with a continuous scale. \n",
    "Continuous data is often represented by real numbers, and it can be broken down into smaller and smaller units.\n",
    "Example: Height, weight, temperature, and time are examples of continuous data.\n",
    "\n",
    "Discrete data: Discrete data is data that can only take specific values, and it can be counted or measured using a discrete scale. \n",
    "Discrete data is often represented by integers or whole numbers, and it cannot be broken down into smaller units.\n",
    "Example: Number of cars in a parking lot, number of children in a family, and number of pages in a book are examples of discrete data.\n",
    "\n",
    "Qualitative data: Qualitative data is data that cannot be measured or counted, and it can be further classified into nominal and ordinal data.\n",
    "\n",
    "Nominal data: Nominal data is data that is used to name or categorize variables, and the categories have no inherent order or numerical value. \n",
    "Nominal data is often represented by labels or categories.\n",
    "Example: Gender, race, and political affiliation are examples of nominal data.\n",
    "\n",
    "Ordinal data: Ordinal data is data that can be ranked or ordered, but the differences between values are not meaningful or consistent. \n",
    "Ordinal data is often represented by categories with a natural order or hierarchy.\n",
    "Example: Educational level, income level, and customer satisfaction rating are examples of ordinal data.\n",
    "\n",
    "\n",
    "'''"
   ]
  },
  {
   "cell_type": "code",
   "execution_count": null,
   "metadata": {},
   "outputs": [],
   "source": [
    "'''Q4. Categorise the following datasets with respect to quantitative and qualitative data types:\n",
    "(i) Grading in exam: A+, A, B+, B, C+, C, D, E\n",
    ">>> Ordinal Data as it is ranked \n",
    "(ii) Colour of mangoes: yellow, green, orange, red\n",
    ">>> Nominal Data as it is fixed number of category  and have no inherent order or numerical value. \n",
    "(iii) Height data of a class: [178.9, 179, 179.5, 176, 177.2, 178.3, 175.8,...]\n",
    ">>> Continuous Data as it is value within a certain range and can be broken down to smaller pieces \n",
    "(iv) Number of mangoes exported by a farm: [500, 600, 478, 672, ...]\n",
    ">>> Discrete Data as it is a whole number within a certain range \n",
    "'''"
   ]
  },
  {
   "cell_type": "code",
   "execution_count": null,
   "metadata": {},
   "outputs": [],
   "source": [
    "'''Q5. Explain the concept of levels of measurement and give an example of a variable for each level.\n",
    "\n",
    "The levels of measurement (also called scales of measurement) refer to the different ways in which data can be measured or classified. \n",
    "There are four levels of measurement: nominal, ordinal, interval, and ratio.\n",
    "\n",
    "Nominal level: Nominal level of measurement is the lowest level of measurement, where data is divided into categories or labels. \n",
    "The categories do not have any numerical order or value, and data can only be counted or classified into groups.\n",
    "\n",
    "Example: Gender (male, female), hair color (blonde, brown, black), marital status (single, married, divorced) are examples of nominal variables.\n",
    "\n",
    "Ordinal level: Ordinal level of measurement is where data can be ranked or ordered, but the differences between values are not necessarily equal \n",
    "or meaningful.\n",
    "Example: Grades in school (A, B, C, D, F), military ranks (private, sergeant, lieutenant, captain) are examples of ordinal variables.\n",
    "\n",
    "Interval level: Interval level of measurement is where the differences between values are meaningful and consistent, \n",
    "but there is no true zero point.\n",
    "Example: Temperature in Celsius or Fahrenheit, years in the calendar, and time are examples of interval variables.\n",
    "\n",
    "Ratio level: Ratio level of measurement is the highest level of measurement, where data has a true zero point, and \n",
    "the ratios between values are meaningful and consistent.\n",
    "Example: Age, weight, height, income, and distance are examples of ratio variables.\n",
    "\n",
    "It is important to note that the level of measurement of a variable determines the type of statistical analysis that can be performed on it.\n",
    "For example, nominal variables can only be described using mode, while ratio variables can be described using mean, median, and mode.\n",
    "\n",
    "\n",
    "'''\n"
   ]
  },
  {
   "cell_type": "code",
   "execution_count": null,
   "metadata": {},
   "outputs": [],
   "source": [
    "'''Q6. Why is it important to understand the level of measurement when analyzing data? Provide an\n",
    "example to illustrate your answer.\n",
    "\n",
    "It is important to understand the level of measurement when analyzing data because the level of measurement \n",
    "determines the type of statistical analysis that can be applied to the data. Different statistical techniques are \n",
    "suitable for different levels of measurement, and using an inappropriate statistical method can lead to incorrect conclusions.\n",
    "\n",
    "For example, let's consider a dataset of employees' salaries. If the data is at the nominal level, meaning that \n",
    "employees are classified into categories, such as 'male' or 'female', we can only use descriptive statistics such as \n",
    "mode and frequency distribution to summarize the data. However, if the data is at the ratio level, meaning that we have \n",
    "the actual salaries of each employee, we can use more advanced statistical methods such as mean, standard deviation, and regression analysis.\n",
    "\n",
    "Therefore, understanding the level of measurement is crucial for selecting the appropriate statistical methods, ensuring accurate \n",
    "and reliable analysis, and drawing meaningful conclusions from the data.\n",
    "\n",
    "'''"
   ]
  },
  {
   "cell_type": "code",
   "execution_count": null,
   "metadata": {},
   "outputs": [],
   "source": [
    "'''Q7. How nominal data type is different from ordinal data type.\n",
    "\n",
    "Nominal data is a type of data that consists of categories or labels that do not have a numerical order or value. \n",
    "Nominal data can only be classified into groups or categories, and the categories do not have any inherent order. \n",
    "For example, hair color (blonde, brown, black), gender (male, female), or political affiliation (Republican, Democrat, Independent) \n",
    "are examples of nominal data. Nominal data can be analyzed using frequency distribution, mode, and chi-square test.\n",
    "\n",
    "On the other hand, ordinal data is a type of data that can be ranked or ordered, but the differences between values \n",
    "are not necessarily equal or meaningful. In other words, ordinal data has a natural ordering, but the intervals between \n",
    "the values are not uniform. Examples of ordinal data include grades in school (A, B, C, D, F), \n",
    "military ranks (private, sergeant, lieutenant, captain), or rating scales (strongly disagree, disagree, neutral, agree, strongly agree). \n",
    "Ordinal data can be analyzed using frequency distribution, mode, median, and non-parametric tests.\n",
    "\n",
    "In summary, the main difference between nominal and ordinal data is that nominal data is categorical and does not have a natural ordering, \n",
    "while ordinal data has a natural ordering but the intervals between the values are not necessarily equal or meaningful\n",
    "'''"
   ]
  },
  {
   "cell_type": "code",
   "execution_count": null,
   "metadata": {},
   "outputs": [],
   "source": [
    "'''\n",
    "Q8. Which type of plot can be used to display data in terms of range?\n",
    "A box plot, also known as a box-and-whisker plot, is a type of plot that can be used to display data in terms of range. \n",
    "A box plot provides a visual representation of the distribution of a dataset by displaying the median, quartiles, and outliers. \n",
    "The box in the plot represents the interquartile range (IQR), which is the range between the first quartile (Q1) and the third quartile (Q3), \n",
    "while the whiskers extend from the box to the minimum and maximum values that are not considered outliers. Box plots are particularly useful \n",
    "for comparing distributions of different variables or groups and for identifying potential outliers or extreme values in the data.\n",
    "Here's how to interpret the box plot:\n",
    "\n",
    "The bottom line of the box represents the first quartile (Q1), which is the salary value below which 25% of the employees fall.\n",
    "The top line of the box represents the third quartile (Q3), which is the salary value below which 75% of the employees fall.\n",
    "The middle line inside the box represents the median, which is the salary value that separates the lower 50% of salaries from the upper 50%.\n",
    "The whiskers extend from the box to the minimum and maximum salaries that are not considered outliers.\n",
    "Any data point outside the whiskers is considered an outlier.\n",
    "\n",
    "'''"
   ]
  },
  {
   "cell_type": "code",
   "execution_count": null,
   "metadata": {},
   "outputs": [],
   "source": [
    "'''Q9. Describe the difference between descriptive and inferential statistics. Give an example of each\n",
    "type of statistics and explain how they are used.\n",
    "Descriptive statistics is concerned with summarizing and describing the main features of a dataset. \n",
    "It involves methods for organizing, displaying, and analyzing data, and includes measures of central tendency (e.g., mean, median, mode), \n",
    "measures of variability (e.g., range, standard deviation), and graphical displays (e.g., histograms, box plots). Descriptive statistics \n",
    "are used to gain an understanding of the patterns and characteristics of a dataset, and to communicate these findings to others. \n",
    "An example of descriptive statistics would be calculating the mean and standard deviation of the exam scores of a class, or \n",
    "creating a histogram to show the distribution of ages of participants in a study.\n",
    "\n",
    "Inferential statistics, on the other hand, is concerned with making inferences and generalizations about a population based on a sample of data. \n",
    "It involves methods for testing hypotheses and estimating population parameters, such as means and proportions. Inferential statistics are used \n",
    "to draw conclusions and make predictions about a larger group based on a smaller sample. An example of inferential statistics would be testing\n",
    "whether there is a significant difference in mean exam scores between two groups of students, or estimating the proportion of voters who \n",
    "support a certain political candidate based on a survey of a sample of voters.\n",
    "\n",
    "To summarize, descriptive statistics is used to describe and summarize the main features of a dataset, while inferential statistics is used to \n",
    "make inferences and predictions about a larger population based on a smaller sample of data. Both types of statistics are important in statistical \n",
    "analysis and can provide valuable insights into a wide range of fields, from social sciences to natural sciences to business and economics.\n",
    "\n",
    "\n",
    "'''"
   ]
  },
  {
   "cell_type": "code",
   "execution_count": null,
   "metadata": {},
   "outputs": [],
   "source": [
    "'''Q10. What are some common measures of central tendency and variability used in statistics? Explain\n",
    "how each measure can be used to describe a dataset.\n",
    "\n",
    "Measures of central tendency are used to represent a typical or central value of a dataset. The most common measures of central tendency are:\n",
    "\n",
    "Mean: The mean is the arithmetic average of a set of values. It is calculated by summing up all the values in a dataset and then dividing \n",
    "the sum by the number of values. The mean is sensitive to outliers, or extreme values that are much larger or smaller than the other values \n",
    "in the dataset.\n",
    "\n",
    "\n",
    "Median: The median is the middle value in a dataset. It is calculated by sorting the values in ascending or descending order and \n",
    "selecting the value in the middle. The median is less sensitive to outliers than the mean and can be more representative of the \n",
    "central tendency of a dataset when there are extreme values present.\n",
    "\n",
    "Mode: The mode is the most frequently occurring value in a dataset. It is useful for describing datasets with a large number of repeated values.\n",
    "\n",
    "Measures of variability are used to indicate how spread out the values in a dataset are from the central tendency. \n",
    "The most common measures of variability are:\n",
    "\n",
    "Range: The range is the difference between the highest and lowest values in a dataset. It provides a quick indication of how spread out the data\n",
    " is, but it is sensitive to outliers and can be influenced by extreme values.\n",
    "\n",
    "Variance: The variance is a measure of how much the values in a dataset differ from the mean. \n",
    "It is calculated by taking the sum of the squared differences between each value and the mean, and \n",
    "then dividing by the number of values in the dataset. A higher variance indicates that the values are more spread out from the mean.\n",
    "\n",
    "Standard deviation: The standard deviation is the square root of the variance. \n",
    "It provides a measure of the spread of the data in the same units as the original data. \n",
    "It is often used to describe the variability of normally distributed datasets.\n",
    "\n",
    "In summary, measures of central tendency and variability provide a way to summarize and describe datasets, \n",
    "and can be used to make comparisons between different datasets. The choice of which measure to use depends on the type of data being analyzed \n",
    "and the research question being addressed.\n",
    "\n",
    "'''"
   ]
  }
 ],
 "metadata": {
  "kernelspec": {
   "display_name": "Python 3",
   "language": "python",
   "name": "python3"
  },
  "language_info": {
   "codemirror_mode": {
    "name": "ipython",
    "version": 3
   },
   "file_extension": ".py",
   "mimetype": "text/x-python",
   "name": "python",
   "nbconvert_exporter": "python",
   "pygments_lexer": "ipython3",
   "version": "3.11.1"
  },
  "orig_nbformat": 4
 },
 "nbformat": 4,
 "nbformat_minor": 2
}
