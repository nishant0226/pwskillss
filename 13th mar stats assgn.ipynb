{
 "cells": [
  {
   "cell_type": "code",
   "execution_count": 19,
   "metadata": {},
   "outputs": [
    {
     "name": "stdout",
     "output_type": "stream",
     "text": [
      "F-value:  1.0\n",
      "P-value:  0.5\n"
     ]
    }
   ],
   "source": [
    "'''Q1. Write a Python function that takes in two arrays of data and calculates the F-value for a variance ratio\n",
    "test. The function should return the F-value and the corresponding p-value for the test.'''\n",
    "import numpy as np\n",
    "import scipy.stats as stats\n",
    "def f_value_func(int_elements_in_array1,int_elements_in_array2):\n",
    "    f_value=np.var(int_elements_in_array1)/np.var(int_elements_in_array2)\n",
    "    p_value=1-stats.f.cdf(f_value,len(int_elements_in_array1)-1,len(int_elements_in_array2)-1)\n",
    "    return f_value,p_value\n",
    "arr1=input(\"Enter the first array: \")\n",
    "elements_in_array1=arr1.split(\",\")\n",
    "int_elements_in_array1=np.array(elements_in_array1,dtype=int)    \n",
    "arr2=input(\"Enter the second array: \")\n",
    "elements_in_array2=arr2.split(\",\")\n",
    "int_elements_in_array2=np.array(elements_in_array2,dtype=int)\n",
    "f_value,p_value=f_value_func(int_elements_in_array1,int_elements_in_array2)\n",
    "print(\"F-value: \",f_value)\n",
    "print(\"P-value: \",p_value)"
   ]
  },
  {
   "cell_type": "code",
   "execution_count": 20,
   "metadata": {},
   "outputs": [
    {
     "name": "stdout",
     "output_type": "stream",
     "text": [
      "Critical F-value:  9.979198532243883\n"
     ]
    }
   ],
   "source": [
    "'''Q2. Given a significance level of 0.05 and the degrees of freedom for the numerator and denominator of an\n",
    "F-distribution, write a Python function that returns the critical F-value for a two-tailed test.'''\n",
    "alpha=0.05\n",
    "dfn=int(input(\"Enter the degrees of freedom for the numerator: \"))\n",
    "dfd=int(input(\"Enter the degrees of freedom for the denominator: \"))\n",
    "critical_f_value=stats.f.ppf(1-alpha/2,dfn,dfd)\n",
    "print(\"Critical F-value: \",critical_f_value)\n"
   ]
  },
  {
   "cell_type": "code",
   "execution_count": 54,
   "metadata": {},
   "outputs": [
    {
     "name": "stdout",
     "output_type": "stream",
     "text": [
      "F-value: inf\n",
      "Degrees of Freedom: 2 , 4\n",
      "p-value: nan\n"
     ]
    },
    {
     "name": "stderr",
     "output_type": "stream",
     "text": [
      "C:\\Users\\p\\AppData\\Local\\Temp\\ipykernel_240\\3718406863.py:12: RuntimeWarning: divide by zero encountered in scalar divide\n",
      "  f_test=np.var(int_elements_in_arr31)/np.var(int_elements_in_arr32)\n"
     ]
    }
   ],
   "source": [
    "'''Q3. Write a Python program that generates random samples from two normal distributions with known\n",
    "\n",
    "variances and uses an F-test to determine if the variances are equal. The program should output the F-\n",
    "value, degrees of freedom, and p-value for the test.'''\n",
    "import numpy as np \n",
    "sizeforarr31=np.random.randint(low=1,high=11)\n",
    "arr31=np.random.normal(size=sizeforarr31)\n",
    "int_elements_in_arr31=np.array(arr31,dtype=int) \n",
    "sizeforarr32=np.random.randint(low=1,high=11)\n",
    "arr32=np.random.normal(size=sizeforarr32)\n",
    "int_elements_in_arr32=np.array(arr32,dtype=int) \n",
    "f_test=np.var(int_elements_in_arr31)/np.var(int_elements_in_arr32)\n",
    "df1,df2=len(arr31)-1,len(arr32)-1\n",
    "p_value=stats.f.ppf(f_test,dfn=df1,dfd=df2)\n",
    "print(\"F-value:\", f_test)\n",
    "print(\"Degrees of Freedom:\", df1, \",\", df2)\n",
    "print(\"p-value:\", p_value)"
   ]
  },
  {
   "cell_type": "code",
   "execution_count": null,
   "metadata": {},
   "outputs": [],
   "source": [
    "'''Q4.The variances of two populations are known to be 10 and 15. A sample of 12 observations is taken from\n",
    "each population. Conduct an F-test at the 5% significance level to determine if the variances are\n",
    "significantly different.\n",
    "Answer4:  '''\n",
    "import scipy.stats as stats\n",
    "\n",
    "variance1 = 10\n",
    "variance2 = 15\n",
    "sample_size = 12\n",
    "\n",
    "# Calculate the F-statistic\n",
    "f_statistic = variance1 / variance2\n",
    "\n",
    "# Calculate the degrees of freedom\n",
    "dfn = sample_size - 1\n",
    "dfd = sample_size - 1\n",
    "\n",
    "# Find the critical value\n",
    "alpha = 0.05\n",
    "critical_value = stats.f.ppf(1 - alpha, dfn, dfd)\n",
    "\n",
    "# Perform the F-test\n",
    "if f_statistic > critical_value:\n",
    "    print(\"Reject the null hypothesis. The variances are significantly different.\")\n",
    "else:\n",
    "    print(\"Fail to reject the null hypothesis. There is not enough evidence to suggest a significant difference in variances.\")\n",
    "\n"
   ]
  },
  {
   "cell_type": "code",
   "execution_count": 55,
   "metadata": {},
   "outputs": [
    {
     "name": "stdout",
     "output_type": "stream",
     "text": [
      "Fail to reject the null hypothesis. There is not enough evidence to suggest a significant difference in variances.\n"
     ]
    }
   ],
   "source": [
    "'''Q5. A manufacturer claims that the variance of the diameter of a certain product is 0.005. A sample of 25\n",
    "products is taken, and the sample variance is found to be 0.006. Conduct an F-test at the 1% significance\n",
    "level to determine if the claim is justified.'''\n",
    "# Solution:\n",
    "#H0:the variance of the diameter of a certain product is 0.005\n",
    "#H1:the variance of the diameter of a certain product is not 0.005\n",
    "alpha=0.01\n",
    "pop_variance=0.005\n",
    "sample_size=25\n",
    "sample_variance=0.006\n",
    "f_statistic=sample_variance/pop_variance\n",
    "dfn=sample_size-1\n",
    "dfd=sample_size-1\n",
    "critical_value=stats.f.ppf(1-alpha,dfn,dfd)\n",
    "if f_statistic>critical_value:\n",
    "    print(\"Reject the null hypothesis. The variances are significantly different.\")\n",
    "else:\n",
    "    print(\"Fail to reject the null hypothesis. There is not enough evidence to suggest a significant difference in variances.\")\n",
    "    "
   ]
  },
  {
   "cell_type": "code",
   "execution_count": 56,
   "metadata": {},
   "outputs": [
    {
     "name": "stdout",
     "output_type": "stream",
     "text": [
      "Mean:  3.0\n",
      "Variance:  -21.6\n"
     ]
    }
   ],
   "source": [
    "'''Q6. Write a Python function that takes in the degrees of freedom for the numerator and denominator of an\n",
    "F-distribution and calculates the mean and variance of the distribution. The function should return the\n",
    "mean and variance as a tuple.'''\n",
    "dfn=int(input(\"Enter the degrees of freedom for the numerator: \"))\n",
    "dfd=int(input(\"Enter the degrees of freedom for the denominator: \"))\n",
    "mean=dfd/(dfd-2)\n",
    "variance=(2*(dfd**2)*(dfn+dfd-2))/((dfn*(dfd-2)**2)*(dfd-4))\n",
    "print(\"Mean: \",mean)\n",
    "print(\"Variance: \",variance)\n"
   ]
  },
  {
   "cell_type": "code",
   "execution_count": 57,
   "metadata": {},
   "outputs": [
    {
     "name": "stdout",
     "output_type": "stream",
     "text": [
      "Fail to reject the null hypothesis. There is not enough evidence to suggest a significant difference in variances.\n"
     ]
    }
   ],
   "source": [
    "'''Q7. A random sample of 10 measurements is taken from a normal population with unknown variance. The\n",
    "sample variance is found to be 25. Another random sample of 15 measurements is taken from another\n",
    "normal population with unknown variance, and the sample variance is found to be 20. Conduct an F-test\n",
    "at the 10% significance level to determine if the variances are significantly different.'''\n",
    "# Solution:\n",
    "#H0: the variances are significantly different\n",
    "#H1: the variances are not significantly different\n",
    "alpha=0.1\n",
    "sample_variance1=25\n",
    "sample_variance2=20\n",
    "sample_size1=10\n",
    "sample_size2=15\n",
    "f_statistic=sample_variance1/sample_variance2\n",
    "dfn=sample_size1-1\n",
    "dfd=sample_size2-1\n",
    "critical_value=stats.f.ppf(1-alpha,dfn,dfd)\n",
    "if f_statistic>critical_value:\n",
    "    print(\"Reject the null hypothesis. The variances are significantly different.\")\n",
    "else:\n",
    "    print(\"Fail to reject the null hypothesis. There is not enough evidence to suggest a significant difference in variances.\")\n",
    "    "
   ]
  },
  {
   "cell_type": "code",
   "execution_count": 58,
   "metadata": {},
   "outputs": [
    {
     "name": "stdout",
     "output_type": "stream",
     "text": [
      "Fail to reject the null hypothesis. There is not enough evidence to suggest a significant difference in variances.\n"
     ]
    }
   ],
   "source": [
    "'''Q8. The following data represent the waiting times in minutes at two different restaurants on a Saturday\n",
    "night: Restaurant A: 24, 25, 28, 23, 22, 20, 27; Restaurant B: 31, 33, 35, 30, 32, 36. Conduct an F-test at the 5%\n",
    "significance level to determine if the variances are significantly different.'''\n",
    "# Solution:\n",
    "#H0: the variances are significantly different\n",
    "#H1: the variances are not significantly different\n",
    "alpha=0.05\n",
    "rest_a=[24,25,28,23,22,20,27]\n",
    "rest_b=[31,33,35,30,32,36]\n",
    "sample_variance1=np.var(rest_a)\n",
    "sample_variance2=np.var(rest_b)\n",
    "sample_size1=len(rest_a)\n",
    "sample_size2=len(rest_b)\n",
    "f_statistic=sample_variance1/sample_variance2\n",
    "dfn=sample_size1-1\n",
    "dfd=sample_size2-1\n",
    "critical_value=stats.f.ppf(1-alpha,dfn,dfd)\n",
    "if f_statistic>critical_value:\n",
    "    print(\"Reject the null hypothesis. The variances are significantly different.\")\n",
    "else:\n",
    "    print(\"Fail to reject the null hypothesis. There is not enough evidence to suggest a significant difference in variances.\")\n",
    "    "
   ]
  },
  {
   "cell_type": "code",
   "execution_count": 60,
   "metadata": {},
   "outputs": [
    {
     "name": "stdout",
     "output_type": "stream",
     "text": [
      "Reject the null hypothesis. The variances are significantly different.\n"
     ]
    }
   ],
   "source": [
    "'''Q9. The following data represent the test scores of two groups of students: Group A: 80, 85, 90, 92, 87, 83;\n",
    "Group B: 75, 78, 82, 79, 81, 84. Conduct an F-test at the 1% significance level to determine if the variances\n",
    "are significantly different.'''\n",
    "#H0: Variances are siginificantly different \n",
    "#H1: Vairances are not significantly different \n",
    "alpha=0.01\n",
    "grp_a=[80,85,90,92,87,83]\n",
    "grp_b=[75, 78, 82, 79, 81, 84]\n",
    "f_statistic=np.var(grp_a)/np.var(grp_b)\n",
    "dfn=len(grp_a)-1\n",
    "dfd=len(grp_b)-1\n",
    "critical_value=stats.f.ppf(alpha,dfn,dfd)\n",
    "if f_statistic>critical_value:\n",
    "    print(\"Reject the null hypothesis. The variances are significantly different.\")\n",
    "else:\n",
    "    print(\"Fail to reject the null hypothesis. There is not enough evidence to suggest a significant difference in variances.\")"
   ]
  },
  {
   "cell_type": "code",
   "execution_count": null,
   "metadata": {},
   "outputs": [],
   "source": []
  }
 ],
 "metadata": {
  "kernelspec": {
   "display_name": "Python 3",
   "language": "python",
   "name": "python3"
  },
  "language_info": {
   "codemirror_mode": {
    "name": "ipython",
    "version": 3
   },
   "file_extension": ".py",
   "mimetype": "text/x-python",
   "name": "python",
   "nbconvert_exporter": "python",
   "pygments_lexer": "ipython3",
   "version": "3.11.1"
  },
  "orig_nbformat": 4
 },
 "nbformat": 4,
 "nbformat_minor": 2
}
