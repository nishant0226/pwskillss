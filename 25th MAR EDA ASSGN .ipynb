{
 "cells": [
  {
   "cell_type": "markdown",
   "metadata": {},
   "source": [
    "## Flight Price"
   ]
  },
  {
   "cell_type": "code",
   "execution_count": 16,
   "metadata": {},
   "outputs": [
    {
     "name": "stdout",
     "output_type": "stream",
     "text": [
      "The dataset consist of respective rows and columns (10683, 35)\n"
     ]
    }
   ],
   "source": [
    "'''Q1. Load the flight price dataset and examine its dimensions. How many rows and columns does the\n",
    "dataset have?'''\n",
    "import pandas as pd \n",
    "import numpy as np\n",
    "import matplotlib.pyplot as plt\n",
    "import seaborn as sns\n",
    "import warnings\n",
    "warnings.filterwarnings(\"ignore\")\n",
    "df=pd.read_excel(\"Cleaned Flight Data.xlsx\")\n",
    "print(f'The dataset consist of respective rows and columns {df.shape}')"
   ]
  },
  {
   "cell_type": "code",
   "execution_count": 17,
   "metadata": {},
   "outputs": [
    {
     "data": {
      "text/html": [
       "<div>\n",
       "<style scoped>\n",
       "    .dataframe tbody tr th:only-of-type {\n",
       "        vertical-align: middle;\n",
       "    }\n",
       "\n",
       "    .dataframe tbody tr th {\n",
       "        vertical-align: top;\n",
       "    }\n",
       "\n",
       "    .dataframe thead th {\n",
       "        text-align: right;\n",
       "    }\n",
       "</style>\n",
       "<table border=\"1\" class=\"dataframe\">\n",
       "  <thead>\n",
       "    <tr style=\"text-align: right;\">\n",
       "      <th></th>\n",
       "      <th>Airline</th>\n",
       "      <th>Source</th>\n",
       "      <th>Destination</th>\n",
       "      <th>Total_Stops</th>\n",
       "      <th>Additional_Info</th>\n",
       "      <th>Price</th>\n",
       "      <th>Date</th>\n",
       "      <th>Month</th>\n",
       "      <th>Year</th>\n",
       "      <th>Arrival_hour</th>\n",
       "      <th>...</th>\n",
       "      <th>Additional_Info_1 Long layover.1</th>\n",
       "      <th>Additional_Info_1 Short layover.1</th>\n",
       "      <th>Additional_Info_2 Long layover.1</th>\n",
       "      <th>Additional_Info_Business class.1</th>\n",
       "      <th>Additional_Info_Change airports.1</th>\n",
       "      <th>Additional_Info_In-flight meal not included.1</th>\n",
       "      <th>Additional_Info_No Info.1</th>\n",
       "      <th>Additional_Info_No check-in baggage included.1</th>\n",
       "      <th>Additional_Info_No info.1</th>\n",
       "      <th>Additional_Info_Red-eye flight.1</th>\n",
       "    </tr>\n",
       "  </thead>\n",
       "  <tbody>\n",
       "    <tr>\n",
       "      <th>0</th>\n",
       "      <td>IndiGo</td>\n",
       "      <td>Banglore</td>\n",
       "      <td>New Delhi</td>\n",
       "      <td>0</td>\n",
       "      <td>No info</td>\n",
       "      <td>3897</td>\n",
       "      <td>24</td>\n",
       "      <td>3</td>\n",
       "      <td>2019</td>\n",
       "      <td>1</td>\n",
       "      <td>...</td>\n",
       "      <td>0</td>\n",
       "      <td>0</td>\n",
       "      <td>0</td>\n",
       "      <td>0</td>\n",
       "      <td>0</td>\n",
       "      <td>0</td>\n",
       "      <td>0</td>\n",
       "      <td>0</td>\n",
       "      <td>1</td>\n",
       "      <td>0</td>\n",
       "    </tr>\n",
       "    <tr>\n",
       "      <th>1</th>\n",
       "      <td>Air India</td>\n",
       "      <td>Kolkata</td>\n",
       "      <td>Banglore</td>\n",
       "      <td>2</td>\n",
       "      <td>No info</td>\n",
       "      <td>7662</td>\n",
       "      <td>1</td>\n",
       "      <td>5</td>\n",
       "      <td>2019</td>\n",
       "      <td>13</td>\n",
       "      <td>...</td>\n",
       "      <td>0</td>\n",
       "      <td>0</td>\n",
       "      <td>0</td>\n",
       "      <td>0</td>\n",
       "      <td>0</td>\n",
       "      <td>0</td>\n",
       "      <td>0</td>\n",
       "      <td>0</td>\n",
       "      <td>1</td>\n",
       "      <td>0</td>\n",
       "    </tr>\n",
       "  </tbody>\n",
       "</table>\n",
       "<p>2 rows × 35 columns</p>\n",
       "</div>"
      ],
      "text/plain": [
       "     Airline    Source Destination  Total_Stops Additional_Info  Price  Date  \\\n",
       "0     IndiGo  Banglore   New Delhi            0         No info   3897    24   \n",
       "1  Air India   Kolkata    Banglore            2         No info   7662     1   \n",
       "\n",
       "   Month  Year  Arrival_hour  ...  Additional_Info_1 Long layover.1  \\\n",
       "0      3  2019             1  ...                                 0   \n",
       "1      5  2019            13  ...                                 0   \n",
       "\n",
       "   Additional_Info_1 Short layover.1  Additional_Info_2 Long layover.1  \\\n",
       "0                                  0                                 0   \n",
       "1                                  0                                 0   \n",
       "\n",
       "  Additional_Info_Business class.1  Additional_Info_Change airports.1  \\\n",
       "0                                0                                  0   \n",
       "1                                0                                  0   \n",
       "\n",
       "   Additional_Info_In-flight meal not included.1  Additional_Info_No Info.1  \\\n",
       "0                                              0                          0   \n",
       "1                                              0                          0   \n",
       "\n",
       "   Additional_Info_No check-in baggage included.1  Additional_Info_No info.1  \\\n",
       "0                                               0                          1   \n",
       "1                                               0                          1   \n",
       "\n",
       "   Additional_Info_Red-eye flight.1  \n",
       "0                                 0  \n",
       "1                                 0  \n",
       "\n",
       "[2 rows x 35 columns]"
      ]
     },
     "execution_count": 17,
     "metadata": {},
     "output_type": "execute_result"
    }
   ],
   "source": [
    "df.head(2)"
   ]
  },
  {
   "cell_type": "code",
   "execution_count": 18,
   "metadata": {},
   "outputs": [
    {
     "data": {
      "text/plain": [
       "<Axes: ylabel='Frequency'>"
      ]
     },
     "execution_count": 18,
     "metadata": {},
     "output_type": "execute_result"
    },
    {
     "data": {
      "image/png": "[encoded data removed]",
      "text/plain": [
       "<Figure size 640x480 with 1 Axes>"
      ]
     },
     "metadata": {},
     "output_type": "display_data"
    }
   ],
   "source": [
    "'''Q2. What is the distribution of flight prices in the dataset? Create a histogram to visualize the\n",
    "distribution'''\n",
    "\n",
    "df[\"Price\"].plot(kind=\"hist\",bins=50) "
   ]
  },
  {
   "cell_type": "code",
   "execution_count": 19,
   "metadata": {},
   "outputs": [
    {
     "data": {
      "text/html": [
       "<div>\n",
       "<style scoped>\n",
       "    .dataframe tbody tr th:only-of-type {\n",
       "        vertical-align: middle;\n",
       "    }\n",
       "\n",
       "    .dataframe tbody tr th {\n",
       "        vertical-align: top;\n",
       "    }\n",
       "\n",
       "    .dataframe thead th {\n",
       "        text-align: right;\n",
       "    }\n",
       "</style>\n",
       "<table border=\"1\" class=\"dataframe\">\n",
       "  <thead>\n",
       "    <tr style=\"text-align: right;\">\n",
       "      <th></th>\n",
       "      <th>Airline</th>\n",
       "      <th>Source</th>\n",
       "      <th>Destination</th>\n",
       "      <th>Total_Stops</th>\n",
       "      <th>Additional_Info</th>\n",
       "      <th>Price</th>\n",
       "      <th>Date</th>\n",
       "      <th>Month</th>\n",
       "      <th>Year</th>\n",
       "      <th>Arrival_hour</th>\n",
       "      <th>...</th>\n",
       "      <th>Additional_Info_1 Long layover.1</th>\n",
       "      <th>Additional_Info_1 Short layover.1</th>\n",
       "      <th>Additional_Info_2 Long layover.1</th>\n",
       "      <th>Additional_Info_Business class.1</th>\n",
       "      <th>Additional_Info_Change airports.1</th>\n",
       "      <th>Additional_Info_In-flight meal not included.1</th>\n",
       "      <th>Additional_Info_No Info.1</th>\n",
       "      <th>Additional_Info_No check-in baggage included.1</th>\n",
       "      <th>Additional_Info_No info.1</th>\n",
       "      <th>Additional_Info_Red-eye flight.1</th>\n",
       "    </tr>\n",
       "  </thead>\n",
       "  <tbody>\n",
       "    <tr>\n",
       "      <th>10681</th>\n",
       "      <td>Vistara</td>\n",
       "      <td>Banglore</td>\n",
       "      <td>New Delhi</td>\n",
       "      <td>0</td>\n",
       "      <td>No info</td>\n",
       "      <td>12648</td>\n",
       "      <td>1</td>\n",
       "      <td>3</td>\n",
       "      <td>2019</td>\n",
       "      <td>14</td>\n",
       "      <td>...</td>\n",
       "      <td>0</td>\n",
       "      <td>0</td>\n",
       "      <td>0</td>\n",
       "      <td>0</td>\n",
       "      <td>0</td>\n",
       "      <td>0</td>\n",
       "      <td>0</td>\n",
       "      <td>0</td>\n",
       "      <td>1</td>\n",
       "      <td>0</td>\n",
       "    </tr>\n",
       "    <tr>\n",
       "      <th>10682</th>\n",
       "      <td>Air India</td>\n",
       "      <td>Delhi</td>\n",
       "      <td>Cochin</td>\n",
       "      <td>2</td>\n",
       "      <td>No info</td>\n",
       "      <td>11753</td>\n",
       "      <td>9</td>\n",
       "      <td>5</td>\n",
       "      <td>2019</td>\n",
       "      <td>19</td>\n",
       "      <td>...</td>\n",
       "      <td>0</td>\n",
       "      <td>0</td>\n",
       "      <td>0</td>\n",
       "      <td>0</td>\n",
       "      <td>0</td>\n",
       "      <td>0</td>\n",
       "      <td>0</td>\n",
       "      <td>0</td>\n",
       "      <td>1</td>\n",
       "      <td>0</td>\n",
       "    </tr>\n",
       "  </tbody>\n",
       "</table>\n",
       "<p>2 rows × 35 columns</p>\n",
       "</div>"
      ],
      "text/plain": [
       "         Airline    Source Destination  Total_Stops Additional_Info  Price  \\\n",
       "10681    Vistara  Banglore   New Delhi            0         No info  12648   \n",
       "10682  Air India     Delhi      Cochin            2         No info  11753   \n",
       "\n",
       "       Date  Month  Year  Arrival_hour  ...  Additional_Info_1 Long layover.1  \\\n",
       "10681     1      3  2019            14  ...                                 0   \n",
       "10682     9      5  2019            19  ...                                 0   \n",
       "\n",
       "       Additional_Info_1 Short layover.1  Additional_Info_2 Long layover.1  \\\n",
       "10681                                  0                                 0   \n",
       "10682                                  0                                 0   \n",
       "\n",
       "      Additional_Info_Business class.1  Additional_Info_Change airports.1  \\\n",
       "10681                                0                                  0   \n",
       "10682                                0                                  0   \n",
       "\n",
       "       Additional_Info_In-flight meal not included.1  \\\n",
       "10681                                              0   \n",
       "10682                                              0   \n",
       "\n",
       "       Additional_Info_No Info.1  \\\n",
       "10681                          0   \n",
       "10682                          0   \n",
       "\n",
       "       Additional_Info_No check-in baggage included.1  \\\n",
       "10681                                               0   \n",
       "10682                                               0   \n",
       "\n",
       "       Additional_Info_No info.1  Additional_Info_Red-eye flight.1  \n",
       "10681                          1                                 0  \n",
       "10682                          1                                 0  \n",
       "\n",
       "[2 rows x 35 columns]"
      ]
     },
     "execution_count": 19,
     "metadata": {},
     "output_type": "execute_result"
    }
   ],
   "source": [
    "df.tail(2)"
   ]
  },
  {
   "cell_type": "code",
   "execution_count": 20,
   "metadata": {},
   "outputs": [
    {
     "name": "stdout",
     "output_type": "stream",
     "text": [
      "The range of Prices is 77753\n",
      "The maximum price is 11753 and the minimum price is 3897\n"
     ]
    }
   ],
   "source": [
    "'''Q3. What is the range of prices in the dataset? What is the minimum and maximum price?'''\n",
    "print(f'The range of Prices is {df[\"Price\"].max()-df[\"Price\"].min()}')\n",
    "print(f'The maximum price is {df[\"Price\"][len(df[\"Price\"])-1]} and the minimum price is {df[\"Price\"][0]}') \n",
    "\n",
    "#the index of last row is 10682 but the len will be 10683 so we have to subtract 1 from len as index starts from 0"
   ]
  },
  {
   "cell_type": "code",
   "execution_count": 21,
   "metadata": {},
   "outputs": [
    {
     "name": "stdout",
     "output_type": "stream",
     "text": [
      "Error\n"
     ]
    },
    {
     "data": {
      "image/png": "[encoded data removed]",
      "text/plain": [
       "<Figure size 1000x500 with 1 Axes>"
      ]
     },
     "metadata": {},
     "output_type": "display_data"
    }
   ],
   "source": [
    "'''Q4. How does the price of flights vary by airline? Create a boxplot to compare the prices of different\n",
    "airlines.'''\n",
    "try:\n",
    "    df[\"Price\"].groupby(df[\"Airline\"]).plot(kind=\"box\",figsize=(10,5))\n",
    "except:\n",
    "    print(\"Error\")"
   ]
  },
  {
   "cell_type": "code",
   "execution_count": 26,
   "metadata": {},
   "outputs": [
    {
     "name": "stdout",
     "output_type": "stream",
     "text": [
      "(array([    7,    45,    45,    79,    79,    96,    96,   123,   195,\n",
      "         195,   228,   228,   243,   243,   316,   316,   322,   322,\n",
      "         361,   361,   373,   373,   387,   387,   395,   395,   396,\n",
      "         402,   424,   424,   447,   447,   486,   510,   515,   523,\n",
      "         523,   547,   547,   597,   628,   655,   655,   657,   705,\n",
      "         705,   751,   751,   771,   771,   785,   785,   785,   795,\n",
      "         795,   826,   877,   877,   878,   878,   919,   922,   922,\n",
      "         936,   946,   957,   957,   959,   960,   960,   965,   965,\n",
      "         975,  1039,  1039,  1043,  1043,  1059,  1059,  1066,  1066,\n",
      "        1074,  1077,  1077,  1145,  1196,  1211,  1211,  1218,  1235,\n",
      "        1235,  1240,  1240,  1246,  1327,  1327,  1341,  1353,  1378,\n",
      "        1378,  1394,  1394,  1423,  1423,  1424,  1427,  1427,  1434,\n",
      "        1434,  1466,  1472,  1472,  1478,  1535,  1535,  1572,  1572,\n",
      "        1580,  1580,  1618,  1618,  1621,  1621,  1629,  1641,  1641,\n",
      "        1652,  1652,  1654,  1665,  1710,  1710,  1712,  1712,  1718,\n",
      "        1718,  1719,  1719,  1763,  1763,  1781,  1781,  1785,  1824,\n",
      "        1828,  1865,  1865,  1916,  1916,  1918,  1928,  1928,  1949,\n",
      "        1949,  1992,  1992,  2042,  2042,  2055,  2056,  2056,  2072,\n",
      "        2072,  2079,  2079,  2099,  2102,  2102,  2108,  2113,  2113,\n",
      "        2127,  2145,  2145,  2151,  2151,  2159,  2159,  2172,  2192,\n",
      "        2192,  2212,  2212,  2255,  2255,  2328,  2328,  2340,  2340,\n",
      "        2405,  2405,  2405,  2415,  2415,  2426,  2426,  2446,  2446,\n",
      "        2453,  2453,  2481,  2481,  2484,  2484,  2495,  2495,  2495,\n",
      "        2496,  2496,  2526,  2526,  2556,  2556,  2556,  2587,  2587,\n",
      "        2591,  2614,  2614,  2616,  2616,  2618,  2623,  2632,  2632,\n",
      "        2633,  2633,  2635,  2691,  2692,  2692,  2693,  2712,  2712,\n",
      "        2718,  2724,  2724,  2775,  2775,  2814,  2817,  2817,  2822,\n",
      "        2844,  2844,  2868,  2868,  2870,  2870,  2883,  2883,  2893,\n",
      "        2893,  2924,  2924,  2924,  2963,  2963,  3017,  3017,  3032,\n",
      "        3032,  3032,  3111,  3111,  3111,  3123,  3123,  3157,  3158,\n",
      "        3158,  3220,  3257,  3289,  3289,  3294,  3317,  3317,  3354,\n",
      "        3362,  3362,  3400,  3407,  3407,  3408,  3408,  3413,  3413,\n",
      "        3454,  3454,  3496,  3505,  3505,  3509,  3509,  3517,  3517,\n",
      "        3526,  3526,  3531,  3531,  3535,  3535,  3535,  3549,  3549,\n",
      "        3554,  3554,  3555,  3555,  3556,  3556,  3568,  3572,  3572,\n",
      "        3577,  3577,  3584,  3686,  3686,  3700,  3700,  3700,  3711,\n",
      "        3711,  3714,  3714,  3725,  3725,  3740,  3740,  3746,  3746,\n",
      "        3760,  3760,  3788,  3788,  3815,  3851,  3871,  3871,  3945,\n",
      "        3953,  3953,  3954,  3985,  3985,  4012,  4032,  4032,  4057,\n",
      "        4057,  4062,  4068,  4068,  4083,  4083,  4118,  4142,  4157,\n",
      "        4157,  4158,  4214,  4214,  4399,  4399,  4413,  4413,  4461,\n",
      "        4461,  4463,  4469,  4469,  4504,  4504,  4521,  4521,  4521,\n",
      "        4534,  4534,  4536,  4536,  4562,  4562,  4595,  4595,  4605,\n",
      "        4605,  4613,  4613,  4655,  4660,  4660,  4671,  4671,  4676,\n",
      "        4700,  4700,  4753,  4753,  4760,  4765,  4829,  4869,  4869,\n",
      "        4894,  4894,  4914,  4914,  4930,  4930,  4971,  4971,  5013,\n",
      "        5013,  5013,  5047,  5047,  5050,  5072,  5086,  5086,  5136,\n",
      "        5162,  5206,  5206,  5223,  5223,  5241,  5241,  5248,  5248,\n",
      "        5272,  5272,  5293,  5320,  5320,  5327,  5327,  5351,  5351,\n",
      "        5361,  5361,  5372,  5372,  5372,  5374,  5374,  5389,  5389,\n",
      "        5423,  5423,  5439,  5446,  5454,  5454,  5463,  5463,  5506,\n",
      "        5506,  5512,  5512,  5523,  5628,  5628,  5662,  5701,  5702,\n",
      "        5702,  5710,  5719,  5738,  5741,  5741,  5742,  5742,  5745,\n",
      "        5754,  5754,  5770,  5770,  5788,  5788,  5832,  5832,  5834,\n",
      "        5834,  5838,  5850,  5856,  5886,  5886,  5899,  5899,  5940,\n",
      "        5940,  5947,  5956,  5956,  5971,  5971,  5980,  5986,  5996,\n",
      "        6013,  6013,  6014,  6014,  6024,  6024,  6031,  6031,  6045,\n",
      "        6045,  6060,  6060,  6098,  6098,  6142,  6142,  6156,  6156,\n",
      "        6217,  6217,  6220,  6220,  6276,  6276,  6314,  6334,  6334,\n",
      "        6336,  6336,  6407,  6419,  6419,  6427,  6427,  6444,  6461,\n",
      "        6461,  6462,  6462,  6483,  6483,  6519,  6519,  6526,  6571,\n",
      "        6571,  6576,  6576,  6576,  6584,  6584,  6588,  6599,  6605,\n",
      "        6656,  6656,  6687,  6687,  6713,  6713,  6720,  6720,  6791,\n",
      "        6791,  6809,  6809,  6835,  6839,  6839,  6844,  6848,  6848,\n",
      "        6884,  6888,  6888,  6901,  6990,  6990,  6991,  6998,  6998,\n",
      "        7001,  7012,  7012,  7018,  7018,  7031,  7042,  7042,  7089,\n",
      "        7089,  7092,  7092,  7098,  7098,  7120,  7174,  7174,  7200,\n",
      "        7200,  7218,  7218,  7247,  7247,  7249,  7284,  7284,  7285,\n",
      "        7285,  7292,  7292,  7323,  7323,  7351,  7356,  7367,  7367,\n",
      "        7377,  7378,  7378,  7480,  7480,  7518,  7518,  7519,  7519,\n",
      "        7537,  7554,  7560,  7560,  7579,  7579,  7586,  7608,  7608,\n",
      "        7617,  7626,  7669,  7669,  7671,  7671,  7713,  7723,  7723,\n",
      "        7724,  7724,  7724,  7752,  7756,  7787,  7787,  7823,  7823,\n",
      "        7835,  7835,  7838,  7838,  7839,  7839,  7858,  7858,  7876,\n",
      "        7902,  7932,  7932,  7956,  7956,  8002,  8002,  8020,  8080,\n",
      "        8122,  8122,  8153,  8199,  8199,  8204,  8223,  8223,  8252,\n",
      "        8252,  8282,  8282,  8306,  8306,  8395,  8395,  8448,  8448,\n",
      "        8451,  8467,  8467,  8470,  8513,  8513,  8517,  8517,  8528,\n",
      "        8528,  8536,  8544,  8544,  8552,  8552,  8560,  8560,  8598,\n",
      "        8601,  8621,  8639,  8639,  8727,  8727,  8728,  8728,  8729,\n",
      "        8739,  8739,  8748,  8748,  8760,  8760,  8768,  8768,  8772,\n",
      "        8772,  8775,  8775,  8830,  8830,  8856,  8897,  8897,  8912,\n",
      "        8922,  8922,  8940,  8942,  8942,  8943,  8943,  8957,  8957,\n",
      "        8957,  8971,  8971,  8987,  8990,  9001,  9001,  9019,  9019,\n",
      "        9019,  9025,  9025,  9029,  9044,  9055,  9058,  9058,  9085,\n",
      "        9085,  9142,  9142,  9154,  9154,  9182,  9182,  9182,  9193,\n",
      "        9220,  9220,  9239,  9266,  9303,  9307,  9307,  9308,  9308,\n",
      "        9320,  9320,  9346,  9346,  9353,  9353,  9356,  9356,  9366,\n",
      "        9366,  9372,  9373,  9373,  9407,  9407,  9454,  9479,  9479,\n",
      "        9484,  9514,  9514,  9556,  9569,  9597,  9597,  9626,  9626,\n",
      "        9629,  9629,  9632,  9634,  9634,  9643,  9643,  9657,  9657,\n",
      "        9689,  9715,  9761,  9761,  9815,  9815,  9863,  9863,  9864,\n",
      "        9864,  9905,  9905,  9930,  9972,  9972,  9974,  9984,  9984,\n",
      "        9995,  9995, 10010, 10010, 10052, 10074, 10074, 10076, 10076,\n",
      "       10109, 10109, 10111, 10111, 10113, 10149, 10149, 10160, 10182,\n",
      "       10189, 10212, 10212, 10223, 10223, 10305, 10305, 10307, 10307,\n",
      "       10327, 10327, 10351, 10353, 10364, 10364, 10364, 10383, 10405,\n",
      "       10405, 10407, 10407, 10417, 10417, 10433, 10433, 10439, 10456,\n",
      "       10511, 10511, 10511, 10519, 10519, 10534, 10534, 10561, 10568,\n",
      "       10568, 10593, 10593, 10604, 10604, 10639, 10654, 10654, 10668,\n",
      "       10677, 10677], dtype=int64), array([ 1, 17, 27, 17, 27, 17, 27,  1, 17, 27, 17, 27, 17, 27, 17, 27, 17,\n",
      "       27, 17, 27, 17, 27, 17, 27, 17, 27,  1,  0, 17, 27, 17, 27,  1,  1,\n",
      "        1, 17, 27, 17, 27,  1,  1, 17, 27,  1, 17, 27, 17, 27, 17, 27,  1,\n",
      "       11, 21, 16, 26,  1, 17, 27, 17, 27,  0, 17, 27,  1,  1, 17, 27,  1,\n",
      "       17, 27, 17, 27,  1, 17, 27, 10, 20, 17, 27, 17, 27,  1, 17, 27,  1,\n",
      "        1, 17, 27,  0, 17, 27, 17, 27,  1, 17, 27,  1,  1, 17, 27, 17, 27,\n",
      "       17, 27,  1, 17, 27, 17, 27,  1, 17, 27,  1, 17, 27, 17, 27, 17, 27,\n",
      "       17, 27, 17, 27,  1, 17, 27, 17, 27,  1,  0, 17, 27, 14, 24, 17, 27,\n",
      "       17, 27, 17, 27, 17, 27,  1,  1,  1, 17, 27, 17, 27,  1, 17, 27, 17,\n",
      "       27, 17, 27, 17, 27,  1, 17, 27, 17, 27, 10, 20,  1, 17, 27,  1, 17,\n",
      "       27,  1, 17, 27, 17, 27, 17, 27,  0, 17, 27, 16, 26, 17, 27, 17, 27,\n",
      "       17, 27,  1, 10, 20, 17, 27, 17, 27, 17, 27, 17, 27, 10, 20, 17, 27,\n",
      "        1, 10, 20, 17, 27, 17, 27,  1, 10, 20, 17, 27,  1, 17, 27, 17, 27,\n",
      "        1,  0, 17, 27,  0,  1,  1,  1, 17, 27,  1, 17, 27,  0, 17, 27, 17,\n",
      "       27,  0, 17, 27,  0, 17, 27, 17, 27, 17, 27, 14, 24, 17, 27,  1, 13,\n",
      "       23, 17, 27, 17, 27,  1, 13, 23,  1, 10, 20, 17, 27,  0, 17, 27,  0,\n",
      "        1, 17, 27,  1,  0,  1,  1, 17, 27,  1, 17, 27, 17, 27, 17, 27, 17,\n",
      "       27,  0, 17, 27, 17, 27, 17, 27, 17, 27, 17, 27,  1, 14, 24, 17, 27,\n",
      "       17, 27, 17, 27, 17, 27,  0, 17, 27, 17, 27,  0, 17, 27,  1, 10, 20,\n",
      "       17, 27, 17, 27, 17, 27, 17, 27, 17, 27, 17, 27, 10, 20,  0,  1, 17,\n",
      "       27,  0, 17, 27,  1, 17, 27,  1, 17, 27, 17, 27,  1, 17, 27, 17, 27,\n",
      "        0,  1, 17, 27,  1, 17, 27, 17, 27, 17, 27, 17, 27,  0, 17, 27, 17,\n",
      "       27,  1, 10, 20, 17, 27, 17, 27, 17, 27, 17, 27, 17, 27, 17, 27,  0,\n",
      "       17, 27, 17, 27,  1, 17, 27, 17, 27,  0,  1,  1, 17, 27, 17, 27, 17,\n",
      "       27, 17, 27, 17, 27,  1, 10, 20, 17, 27,  0,  1, 17, 27,  1,  1, 17,\n",
      "       27, 17, 27, 17, 27, 17, 27, 17, 27,  1, 17, 27, 17, 27, 17, 27, 17,\n",
      "       27,  1, 13, 23, 17, 27, 17, 27, 17, 27,  1,  0, 17, 27, 17, 27, 17,\n",
      "       27, 17, 27,  1, 10, 20,  1,  1, 17, 27,  1,  1,  1, 17, 27, 17, 27,\n",
      "        1, 17, 27, 17, 27, 17, 27, 17, 27, 17, 27,  0,  1,  1, 17, 27, 17,\n",
      "       27, 17, 27,  0, 17, 27, 17, 27,  1,  1,  0, 17, 27, 17, 27, 10, 20,\n",
      "       17, 27, 17, 27, 17, 27, 17, 27, 17, 27, 17, 27, 17, 27, 17, 27, 17,\n",
      "       27,  1, 17, 27, 10, 20,  1, 17, 27, 17, 27,  0, 17, 27, 17, 27, 17,\n",
      "       27, 17, 27,  1, 17, 27,  1, 10, 20, 17, 27,  1,  0,  1, 17, 27, 17,\n",
      "       27, 17, 27, 17, 27, 17, 27, 17, 27,  1, 17, 27,  1, 17, 27,  0, 17,\n",
      "       27,  1, 17, 27,  1, 17, 27,  0, 17, 27, 17, 27,  0, 17, 27, 17, 27,\n",
      "       17, 27, 17, 27,  1, 17, 27, 17, 27, 17, 27, 17, 27,  0, 17, 27, 17,\n",
      "       27, 17, 27, 17, 27,  1,  1, 17, 27,  1, 17, 27, 17, 27, 17, 27, 17,\n",
      "       27,  1,  1, 17, 27, 17, 27,  0, 17, 27,  1,  1, 17, 27, 17, 27,  1,\n",
      "       17, 27,  1, 10, 20,  0,  1, 17, 27, 17, 27, 17, 27, 17, 27, 17, 27,\n",
      "       17, 27,  0,  1, 17, 27, 17, 27, 17, 27,  1,  1, 19, 29,  0, 17, 27,\n",
      "        0, 17, 27, 17, 27, 17, 27, 17, 27, 17, 27, 17, 27,  1, 17, 27,  1,\n",
      "       17, 27, 17, 27, 17, 27,  1, 17, 27, 17, 27, 17, 27,  1,  0,  1, 17,\n",
      "       27, 17, 27, 17, 27,  0, 17, 27, 17, 27, 17, 27, 17, 27, 17, 27, 17,\n",
      "       27, 17, 27,  1, 14, 24,  1, 17, 27,  1, 17, 27, 17, 27,  1, 10, 20,\n",
      "       17, 27,  1,  1, 17, 27,  1, 10, 20, 17, 27,  0,  1,  1, 17, 27, 17,\n",
      "       27, 17, 27, 17, 27,  0, 14, 24,  1, 16, 26,  1,  1,  1, 17, 27, 17,\n",
      "       27, 17, 27, 17, 27, 17, 27, 17, 27, 17, 27,  1, 17, 27, 17, 27,  0,\n",
      "       14, 24,  0, 17, 27,  1,  0, 17, 27, 17, 27, 17, 27,  1, 17, 27, 17,\n",
      "       27, 10, 20,  1,  1, 17, 27, 17, 27, 17, 27, 17, 27, 17, 27,  1, 17,\n",
      "       27,  1, 17, 27, 17, 27, 17, 27,  1, 17, 27, 17, 27, 17, 27, 17, 27,\n",
      "        1, 14, 24,  1,  1,  1, 17, 27, 17, 27, 17, 27, 17, 27, 17, 27,  1,\n",
      "        1,  1, 13, 23,  1, 17, 27, 17, 27, 17, 27, 17, 27,  1,  1,  1, 12,\n",
      "       22, 17, 27, 17, 27,  1, 17, 27, 17, 27, 17, 27,  0, 17, 27,  1, 17,\n",
      "       27], dtype=int64))\n"
     ]
    }
   ],
   "source": [
    "'''Q5. Are there any outliers in the dataset? Identify any potential outliers using a boxplot and describe how\n",
    "they may impact your analysis.'''\n",
    "#Yes there are outliers in the dataset as we can see in the above boxplot\n",
    "#to identify the outliers we can use the z-score method\n",
    "from scipy import stats\n",
    "# Select only the numeric columns from the DataFrame\n",
    "numeric_columns = df.select_dtypes(include=np.number)\n",
    "z_scores = np.abs(stats.zscore(numeric_columns))\n",
    "outlier_threshold=2.5\n",
    "outlier_index=np.where(z_scores>outlier_threshold)\n",
    "print(outlier_index)\n"
   ]
  },
  {
   "cell_type": "markdown",
   "metadata": {},
   "source": [
    "## Google Playstore:"
   ]
  },
  {
   "cell_type": "code",
   "execution_count": 30,
   "metadata": {},
   "outputs": [],
   "source": [
    "df1=pd.read_csv(\"Cleaned Google Play Store Dataset.csv\")"
   ]
  },
  {
   "cell_type": "code",
   "execution_count": 32,
   "metadata": {},
   "outputs": [
    {
     "data": {
      "text/html": [
       "<div>\n",
       "<style scoped>\n",
       "    .dataframe tbody tr th:only-of-type {\n",
       "        vertical-align: middle;\n",
       "    }\n",
       "\n",
       "    .dataframe tbody tr th {\n",
       "        vertical-align: top;\n",
       "    }\n",
       "\n",
       "    .dataframe thead th {\n",
       "        text-align: right;\n",
       "    }\n",
       "</style>\n",
       "<table border=\"1\" class=\"dataframe\">\n",
       "  <thead>\n",
       "    <tr style=\"text-align: right;\">\n",
       "      <th></th>\n",
       "      <th>Unnamed: 0</th>\n",
       "      <th>App</th>\n",
       "      <th>Category</th>\n",
       "      <th>Rating</th>\n",
       "      <th>Reviews</th>\n",
       "      <th>Size</th>\n",
       "      <th>Installs</th>\n",
       "      <th>Type</th>\n",
       "      <th>Price</th>\n",
       "      <th>Content Rating</th>\n",
       "      <th>Genres</th>\n",
       "      <th>Last Updated</th>\n",
       "      <th>Current Ver</th>\n",
       "      <th>Android Ver</th>\n",
       "      <th>Day</th>\n",
       "      <th>Month</th>\n",
       "      <th>Year</th>\n",
       "    </tr>\n",
       "  </thead>\n",
       "  <tbody>\n",
       "    <tr>\n",
       "      <th>0</th>\n",
       "      <td>0</td>\n",
       "      <td>Photo Editor &amp; Candy Camera &amp; Grid &amp; ScrapBook</td>\n",
       "      <td>ART_AND_DESIGN</td>\n",
       "      <td>4.1</td>\n",
       "      <td>159</td>\n",
       "      <td>19000.0</td>\n",
       "      <td>10000</td>\n",
       "      <td>Free</td>\n",
       "      <td>0.0</td>\n",
       "      <td>Everyone</td>\n",
       "      <td>Art &amp; Design</td>\n",
       "      <td>2018-01-07</td>\n",
       "      <td>1.0.0</td>\n",
       "      <td>4.0.3 and up</td>\n",
       "      <td>7</td>\n",
       "      <td>1</td>\n",
       "      <td>2018</td>\n",
       "    </tr>\n",
       "    <tr>\n",
       "      <th>1</th>\n",
       "      <td>1</td>\n",
       "      <td>Coloring book moana</td>\n",
       "      <td>ART_AND_DESIGN</td>\n",
       "      <td>3.9</td>\n",
       "      <td>967</td>\n",
       "      <td>14000.0</td>\n",
       "      <td>500000</td>\n",
       "      <td>Free</td>\n",
       "      <td>0.0</td>\n",
       "      <td>Everyone</td>\n",
       "      <td>Art &amp; Design;Pretend Play</td>\n",
       "      <td>2018-01-15</td>\n",
       "      <td>2.0.0</td>\n",
       "      <td>4.0.3 and up</td>\n",
       "      <td>15</td>\n",
       "      <td>1</td>\n",
       "      <td>2018</td>\n",
       "    </tr>\n",
       "  </tbody>\n",
       "</table>\n",
       "</div>"
      ],
      "text/plain": [
       "   Unnamed: 0                                             App        Category  \\\n",
       "0           0  Photo Editor & Candy Camera & Grid & ScrapBook  ART_AND_DESIGN   \n",
       "1           1                             Coloring book moana  ART_AND_DESIGN   \n",
       "\n",
       "   Rating  Reviews     Size  Installs  Type  Price Content Rating  \\\n",
       "0     4.1      159  19000.0     10000  Free    0.0       Everyone   \n",
       "1     3.9      967  14000.0    500000  Free    0.0       Everyone   \n",
       "\n",
       "                      Genres Last Updated Current Ver   Android Ver  Day  \\\n",
       "0               Art & Design   2018-01-07       1.0.0  4.0.3 and up    7   \n",
       "1  Art & Design;Pretend Play   2018-01-15       2.0.0  4.0.3 and up   15   \n",
       "\n",
       "   Month  Year  \n",
       "0      1  2018  \n",
       "1      1  2018  "
      ]
     },
     "execution_count": 32,
     "metadata": {},
     "output_type": "execute_result"
    }
   ],
   "source": [
    "df1.head(2)"
   ]
  },
  {
   "cell_type": "code",
   "execution_count": 34,
   "metadata": {},
   "outputs": [
    {
     "name": "stdout",
     "output_type": "stream",
     "text": [
      "The dataset consist of respective rows and columns (10840, 17)\n"
     ]
    }
   ],
   "source": [
    "'''Q9. Load the Google Playstore dataset and examine its dimensions. How many rows and columns does\n",
    "the dataset have?'''\n",
    "print(f'The dataset consist of respective rows and columns {df1.shape}')"
   ]
  },
  {
   "cell_type": "code",
   "execution_count": 44,
   "metadata": {},
   "outputs": [
    {
     "name": "stdout",
     "output_type": "stream",
     "text": [
      "Error\n"
     ]
    },
    {
     "data": {
      "image/png": "[encoded data removed]",
      "text/plain": [
       "<Figure size 1000x500 with 1 Axes>"
      ]
     },
     "metadata": {},
     "output_type": "display_data"
    }
   ],
   "source": [
    "'''Q10. How does the rating of apps vary by category? Create a boxplot to compare the ratings of different\n",
    "app categories.'''\n",
    "try:\n",
    "    df1[\"Rating\"].groupby(df1[\"Category\"]).plot(kind=\"box\",figsize=(10,5))\n",
    "except:\n",
    "    print(\"Error\")"
   ]
  },
  {
   "cell_type": "code",
   "execution_count": 47,
   "metadata": {},
   "outputs": [
    {
     "data": {
      "text/plain": [
       "Unnamed: 0           0\n",
       "App                  0\n",
       "Category             0\n",
       "Rating            1474\n",
       "Reviews              0\n",
       "Size              1695\n",
       "Installs             0\n",
       "Type                 1\n",
       "Price                0\n",
       "Content Rating       0\n",
       "Genres               0\n",
       "Last Updated         0\n",
       "Current Ver          8\n",
       "Android Ver          2\n",
       "Day                  0\n",
       "Month                0\n",
       "Year                 0\n",
       "dtype: int64"
      ]
     },
     "execution_count": 47,
     "metadata": {},
     "output_type": "execute_result"
    }
   ],
   "source": [
    "'''Q11. Are there any missing values in the dataset? Identify any missing values and describe how they may\n",
    "impact your analysis.'''\n",
    "df1.isnull().sum()\n",
    "#Yes there are missing values in the dataset and they may impact our analysis as we can see in the above output\n",
    "#the missing values are in Rating,Type,Current Ver,Android Ver\n",
    "#we can drop the missing values but it will affect our analysis so we will replace the missing values with mean,median and mode\n",
    "#it'll impact by changing the mean,median and mode of the respective columns"
   ]
  },
  {
   "cell_type": "code",
   "execution_count": 48,
   "metadata": {},
   "outputs": [
    {
     "data": {
      "image/png": "[encoded data removed]",
      "text/plain": [
       "<Figure size 1000x500 with 1 Axes>"
      ]
     },
     "metadata": {},
     "output_type": "display_data"
    }
   ],
   "source": [
    "'''Q12. What is the relationship between the size of an app and its rating? Create a scatter plot to visualize\n",
    "the relationship.'''\n",
    "try:\n",
    "    df1.plot(kind=\"scatter\",x=\"Size\",y=\"Rating\",figsize=(10,5))\n",
    "except:\n",
    "    print(\"Error\")"
   ]
  },
  {
   "cell_type": "code",
   "execution_count": null,
   "metadata": {},
   "outputs": [],
   "source": []
  }
 ],
 "metadata": {
  "kernelspec": {
   "display_name": "Python 3",
   "language": "python",
   "name": "python3"
  },
  "language_info": {
   "codemirror_mode": {
    "name": "ipython",
    "version": 3
   },
   "file_extension": ".py",
   "mimetype": "text/x-python",
   "name": "python",
   "nbconvert_exporter": "python",
   "pygments_lexer": "ipython3",
   "version": "3.11.1"
  },
  "orig_nbformat": 4
 },
 "nbformat": 4,
 "nbformat_minor": 2
}
