{
 "cells": [
  {
   "cell_type": "code",
   "execution_count": 1,
   "metadata": {},
   "outputs": [
    {
     "name": "stdout",
     "output_type": "stream",
     "text": [
      "True\n"
     ]
    }
   ],
   "source": [
    "def isomorphic_strings(s, t):\n",
    "    if len(s) != len(t):\n",
    "        return False\n",
    "    \n",
    "    s_to_t = {}\n",
    "    t_to_s = {}\n",
    "    \n",
    "    for c, d in zip(s, t):\n",
    "        if c not in s_to_t and d not in t_to_s:\n",
    "            s_to_t[c] = d\n",
    "            t_to_s[d] = c\n",
    "        elif s_to_t.get(c) != d or t_to_s.get(d) != c:\n",
    "            return False\n",
    "    \n",
    "    return True\n",
    "s = \"egg\"\n",
    "t = \"add\"\n",
    "result = isomorphic_strings(s, t)\n",
    "print(result)\n"
   ]
  },
  {
   "cell_type": "code",
   "execution_count": 2,
   "metadata": {},
   "outputs": [
    {
     "name": "stdout",
     "output_type": "stream",
     "text": [
      "True\n"
     ]
    }
   ],
   "source": [
    "def is_strobogrammatic(num):\n",
    "    left = 0\n",
    "    right = len(num) - 1\n",
    "    \n",
    "    while left <= right:\n",
    "        if num[left] + num[right] not in [\"00\", \"11\", \"69\", \"96\", \"88\"]:\n",
    "            return False\n",
    "        left += 1\n",
    "        right -= 1\n",
    "    \n",
    "    return True\n",
    "num = \"69\"\n",
    "result = is_strobogrammatic(num)\n",
    "print(result)\n"
   ]
  },
  {
   "cell_type": "code",
   "execution_count": 3,
   "metadata": {},
   "outputs": [
    {
     "name": "stdout",
     "output_type": "stream",
     "text": [
      "134\n"
     ]
    }
   ],
   "source": [
    "def add_strings(num1, num2):\n",
    "    p1 = len(num1) - 1\n",
    "    p2 = len(num2) - 1\n",
    "    carry = 0\n",
    "    result = []\n",
    "\n",
    "    while p1 >= 0 or p2 >= 0:\n",
    "        digit1 = int(num1[p1]) if p1 >= 0 else 0\n",
    "        digit2 = int(num2[p2]) if p2 >= 0 else 0\n",
    "        digit_sum = digit1 + digit2 + carry\n",
    "        carry = digit_sum // 10\n",
    "        digit = digit_sum % 10\n",
    "        result.insert(0, str(digit))\n",
    "        p1 -= 1\n",
    "        p2 -= 1\n",
    "\n",
    "    if carry > 0:\n",
    "        result.insert(0, str(carry))\n",
    "\n",
    "    return \"\".join(result)\n",
    "num1 = \"11\"\n",
    "num2 = \"123\"\n",
    "result = add_strings(num1, num2)\n",
    "print(result)\n"
   ]
  },
  {
   "cell_type": "code",
   "execution_count": 4,
   "metadata": {},
   "outputs": [
    {
     "name": "stdout",
     "output_type": "stream",
     "text": [
      "bacdfeg\n"
     ]
    }
   ],
   "source": [
    "def reverse_string(s, k):\n",
    "    s = list(s)\n",
    "    n = len(s)\n",
    "    \n",
    "    for i in range(0, n, 2 * k):\n",
    "        s[i:i+k] = s[i:i+k][::-1]\n",
    "    \n",
    "    return \"\".join(s)\n",
    "s = \"abcdefg\"\n",
    "k = 2\n",
    "result = reverse_string(s, k)\n",
    "print(result)\n"
   ]
  },
  {
   "cell_type": "code",
   "execution_count": 5,
   "metadata": {},
   "outputs": [
    {
     "name": "stdout",
     "output_type": "stream",
     "text": [
      "True\n"
     ]
    }
   ],
   "source": [
    "def is_shifted_string(s, goal):\n",
    "    if len(s) != len(goal):\n",
    "        return False\n",
    "    \n",
    "    shifted_string = s + s\n",
    "    \n",
    "    return goal in shifted_string\n",
    "s = \"abcde\"\n",
    "goal = \"cdeab\"\n",
    "result = is_shifted_string(s, goal)\n",
    "print(result)\n"
   ]
  },
  {
   "cell_type": "code",
   "execution_count": 6,
   "metadata": {},
   "outputs": [
    {
     "name": "stdout",
     "output_type": "stream",
     "text": [
      "True\n"
     ]
    }
   ],
   "source": [
    "def backspace_compare(s, t):\n",
    "    s_stack = []\n",
    "    t_stack = []\n",
    "    \n",
    "    for c in s:\n",
    "        if c != '#':\n",
    "            s_stack.append(c)\n",
    "        elif s_stack:\n",
    "            s_stack.pop()\n",
    "    \n",
    "    for c in t:\n",
    "        if c != '#':\n",
    "            t_stack.append(c)\n",
    "        elif t_stack:\n",
    "            t_stack.pop()\n",
    "    \n",
    "    return s_stack == t_stack\n",
    "s = \"ab#c\"\n",
    "t = \"ad#c\"\n",
    "result = backspace_compare(s, t)\n",
    "print(result)\n"
   ]
  },
  {
   "cell_type": "code",
   "execution_count": 7,
   "metadata": {},
   "outputs": [
    {
     "name": "stdout",
     "output_type": "stream",
     "text": [
      "True\n"
     ]
    }
   ],
   "source": [
    "def check_straight_line(coordinates):\n",
    "    if len(coordinates) <= 2:\n",
    "        return True\n",
    "    \n",
    "    p1 = coordinates[0]\n",
    "    p2 = coordinates[1]\n",
    "    initial_slope = (p2[1] - p1[1]) / (p2[0] - p1[0])\n",
    "    \n",
    "    for i in range(2, len(coordinates)):\n",
    "        p = coordinates[i]\n",
    "        slope = (p[1] - p1[1]) / (p[0] - p1[0])\n",
    "        \n",
    "        if slope != initial_slope:\n",
    "            return False\n",
    "    \n",
    "    return True\n",
    "coordinates = [[1, 2], [2, 3], [3, 4], [4, 5], [5, 6], [6, 7]]\n",
    "result = check_straight_line(coordinates)\n",
    "print(result)\n"
   ]
  },
  {
   "cell_type": "code",
   "execution_count": null,
   "metadata": {},
   "outputs": [],
   "source": []
  }
 ],
 "metadata": {
  "kernelspec": {
   "display_name": "Python 3",
   "language": "python",
   "name": "python3"
  },
  "language_info": {
   "codemirror_mode": {
    "name": "ipython",
    "version": 3
   },
   "file_extension": ".py",
   "mimetype": "text/x-python",
   "name": "python",
   "nbconvert_exporter": "python",
   "pygments_lexer": "ipython3",
   "version": "3.11.1"
  },
  "orig_nbformat": 4
 },
 "nbformat": 4,
 "nbformat_minor": 2
}
