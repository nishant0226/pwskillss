{
 "cells": [
  {
   "attachments": {},
   "cell_type": "markdown",
   "metadata": {},
   "source": [
    "<aside>\n",
    "💡 **Q1.** Given an array of integers nums and an integer target, return indices of the two numbers such that they add up to target.\n",
    "\n",
    "You may assume that each input would have exactly one solution, and you may not use the same element twice.\n",
    "\n",
    "You can return the answer in any order.\n",
    "\n",
    "**Example:**\n",
    "Input: nums = [2,7,11,15], target = 9\n",
    "Output0 [0,1]\n",
    "\n",
    "**Explanation:** Because nums[0] + nums[1] == 9, we return [0, 1]\n",
    "\n",
    "</aside>"
   ]
  },
  {
   "attachments": {},
   "cell_type": "markdown",
   "metadata": {},
   "source": [
    "Solution 1"
   ]
  },
  {
   "cell_type": "code",
   "execution_count": 62,
   "metadata": {},
   "outputs": [
    {
     "name": "stdout",
     "output_type": "stream",
     "text": [
      "[1, 3]\n"
     ]
    }
   ],
   "source": [
    "#the question is not clear to me so i have considered that if target is 9 then 4+5=9 so the output will be [3,4] \n",
    "#as the index of 4 is 3 and index of 5 is 4 and as soon  as the first pair is found the loop will break and the output will be printed\n",
    "#and we will not procees further to find the second pair\n",
    "import numpy as np\n",
    "nums=np.array([1,2,3,4,5])\n",
    "target=int(input(\"Enter the target value: \"))\n",
    "first_pair=False\n",
    "r=[]\n",
    "for i in range(len(nums)):\n",
    "    for j in range(i+1,len(nums)):\n",
    "        if nums[i]+nums[j]==target:\n",
    "            r=[i,j]\n",
    "            first_pair=True\n",
    "            break\n",
    "if first_pair:\n",
    "    print(r)\n",
    "else:   \n",
    "    print(\"No pair found\")"
   ]
  },
  {
   "attachments": {},
   "cell_type": "markdown",
   "metadata": {},
   "source": [
    "<aside>\n",
    "💡 **Q2.** Given an integer array nums and an integer val, remove all occurrences of val in nums in-place. The order of the elements may be changed. Then return the number of elements in nums which are not equal to val.\n",
    "\n",
    "Consider the number of elements in nums which are not equal to val be k, to get accepted, you need to do the following things:\n",
    "\n",
    "- Change the array nums such that the first k elements of nums contain the elements which are not equal to val. The remaining elements of nums are not important as well as the size of nums.\n",
    "- Return k.\n",
    "\n",
    "**Example :**\n",
    "Input: nums = [3,2,2,3], val = 3\n",
    "Output: 2, nums = [2,2,_*,_*]\n",
    "\n",
    "**Explanation:** Your function should return k = 2, with the first two elements of nums being 2. It does not matter what you leave beyond the returned k (hence they are underscores)\n",
    "\n",
    "</aside>"
   ]
  },
  {
   "cell_type": "code",
   "execution_count": 63,
   "metadata": {},
   "outputs": [
    {
     "name": "stdout",
     "output_type": "stream",
     "text": [
      "2\n",
      "[2, 2]\n"
     ]
    }
   ],
   "source": [
    "def remove_val(nums,val):\n",
    "    i=0\n",
    "    while i<len(nums):\n",
    "        if nums[i]==val:\n",
    "            nums.pop(i)\n",
    "        else:\n",
    "            i+=1\n",
    "    r=len(nums)\n",
    "    nums=[x for x in nums if x!=val]\n",
    "    print(r,end=\"\\n\")\n",
    "    print(nums)\n",
    "\n",
    "    \n",
    "nums=[3,2,2,3]\n",
    "val=3\n",
    "remove_val(nums,val)"
   ]
  },
  {
   "cell_type": "code",
   "execution_count": 64,
   "metadata": {},
   "outputs": [
    {
     "name": "stdout",
     "output_type": "stream",
     "text": [
      "0\n"
     ]
    }
   ],
   "source": [
    "'''**Q3.** Given a sorted array of distinct integers and a target value, return the index if the target is found. \n",
    "If not, return the index where it would be if it were inserted in order.\n",
    "\n",
    "You must write an algorithm with O(log n) runtime complexity.\n",
    "\n",
    "**Example 1:**\n",
    "Input: nums = [1,3,5,6], target = 5\n",
    "\n",
    "Output: 2\n",
    "'''\n",
    "def searchInsert(nums, target):\n",
    "    index = 0\n",
    "    while index < len(nums):\n",
    "        if nums[index] >= target:\n",
    "            return index\n",
    "        index += 1\n",
    "    return index\n",
    "\n",
    "nums = np.random.randint(0, 10,5)\n",
    "print(nums)\n",
    "target = int(input(\"Enter the target value: \"))\n",
    "\n",
    "index = searchInsert(nums, target)\n",
    "print(index)\n"
   ]
  },
  {
   "cell_type": "code",
   "execution_count": 98,
   "metadata": {},
   "outputs": [
    {
     "data": {
      "text/plain": [
       "[1, 2, 4]"
      ]
     },
     "execution_count": 98,
     "metadata": {},
     "output_type": "execute_result"
    }
   ],
   "source": [
    "'''**Q4.** You are given a large integer represented as an integer array digits, where each digits[i] is the ith digit of the integer. \n",
    "The digits are ordered from most significant to least significant in left-to-right order. \n",
    "The large integer does not contain any leading 0's.\n",
    "\n",
    "Increment the large integer by one and return the resulting array of digits.\n",
    "\n",
    "**Example 1:**\n",
    "Input: digits = [1,2,3]\n",
    "Output: [1,2,4]\n",
    "\n",
    "**Explanation:** The array represents the integer 123.\n",
    "\n",
    "Incrementing by one gives 123 + 1 = 124.\n",
    "Thus, the result should be [1,2,4].\n",
    "'''\n",
    "def plusOne(digits):\n",
    "    digits = [str(i) for i in digits]\n",
    "    digits = int(\"\".join(digits))\n",
    "    digits += 1\n",
    "    digits = str(digits)\n",
    "    digits = [int(i) for i in digits]\n",
    "    return digits\n",
    "plusOne([1,2,3])\n"
   ]
  },
  {
   "cell_type": "code",
   "execution_count": 113,
   "metadata": {},
   "outputs": [
    {
     "name": "stdout",
     "output_type": "stream",
     "text": [
      "[1, 2, 2, 3, 5, 6]\n"
     ]
    }
   ],
   "source": [
    "'''**Q5.** You are given two integer arrays nums1 and nums2, sorted in non-decreasing order, and two integers m and n, \n",
    "representing the number of elements in nums1 and nums2 respectively.\n",
    "\n",
    "Merge nums1 and nums2 into a single array sorted in non-decreasing order.\n",
    "\n",
    "The final sorted array should not be returned by the function, but instead be stored inside the array nums1. \n",
    "To accommodate this, nums1 has a length of m + n, where the first m elements denote the elements that should be merged, \n",
    "and the last n elements are set to 0 and should be ignored. nums2 has a length of n.\n",
    "\n",
    "**Example 1:**\n",
    "Input: nums1 = [1,2,3,0,0,0], m = 3, nums2 = [2,5,6], n = 3\n",
    "Output: [1,2,2,3,5,6]\n",
    "\n",
    "**Explanation:** The arrays we are merging are [1,2,3] and [2,5,6].\n",
    "The result of the merge is [1,2,2,3,5,6] with the underlined elements coming from nums1.\n",
    "'''\n",
    "def merge(nums1, m, nums2, n):\n",
    "    p1 = m - 1\n",
    "    p2 = n - 1\n",
    "    p = m + n - 1\n",
    "\n",
    "    while p1 >= 0 and p2 >= 0:\n",
    "        if nums1[p1] > nums2[p2]:\n",
    "            nums1[p] = nums1[p1]\n",
    "            p1 -= 1\n",
    "        else:\n",
    "            nums1[p] = nums2[p2]\n",
    "            p2 -= 1\n",
    "        p -= 1\n",
    "\n",
    "    while p2 >= 0:\n",
    "        nums1[p] = nums2[p2]\n",
    "        p2 -= 1\n",
    "        p -= 1\n",
    "\n",
    "# Example usage\n",
    "nums1 = [1, 2, 3, 0, 0, 0]\n",
    "m = 3\n",
    "nums2 = [2, 5, 6]\n",
    "n = 3\n",
    "\n",
    "merge(nums1, m, nums2, n)\n",
    "print(nums1)\n",
    "\n"
   ]
  },
  {
   "cell_type": "code",
   "execution_count": 126,
   "metadata": {},
   "outputs": [
    {
     "name": "stdout",
     "output_type": "stream",
     "text": [
      "1\n",
      "2\n",
      "True\n"
     ]
    }
   ],
   "source": [
    "'''**Q6.** Given an integer array nums, return true if any value appears at least twice in the array, \n",
    "and return false if every element is distinct.\n",
    "\n",
    "**Example 1:**\n",
    "Input: nums = [1,2,3,1]\n",
    "\n",
    "Output: true\n",
    "'''\n",
    "def twice_value(nums):\n",
    "    for i in nums:\n",
    "        print(i)\n",
    "        if nums.count(i) >= 2:\n",
    "            print(\"True\")\n",
    "            return\n",
    "    \n",
    "    print(\"False\")\n",
    "\n",
    "twice_value([1, 2, 2, 3, 4, 5, 6, 7, 8, 9, 9])"
   ]
  },
  {
   "cell_type": "code",
   "execution_count": 131,
   "metadata": {},
   "outputs": [
    {
     "data": {
      "text/plain": [
       "[1, 3, 12, 0, 0]"
      ]
     },
     "execution_count": 131,
     "metadata": {},
     "output_type": "execute_result"
    }
   ],
   "source": [
    "'''<aside>\n",
    "💡 **Q7.** Given an integer array nums, move all 0's to the end of it while maintaining the relative order of the nonzero elements.\n",
    "\n",
    "Note that you must do this in-place without making a copy of the array.\n",
    "\n",
    "**Example 1:**\n",
    "Input: nums = [0,1,0,3,12]\n",
    "Output: [1,3,12,0,0]\n",
    "\n",
    "</aside>'''\n",
    "def moveZeroes(nums):\n",
    "    for i in nums:\n",
    "        if i == 0:\n",
    "            nums.remove(i)\n",
    "            nums.append(i)\n",
    "    return nums\n",
    "nums = [0,1,0,3,12]\n",
    "moveZeroes(nums)"
   ]
  },
  {
   "cell_type": "code",
   "execution_count": 138,
   "metadata": {},
   "outputs": [
    {
     "name": "stdout",
     "output_type": "stream",
     "text": [
      "[2, 3]\n"
     ]
    }
   ],
   "source": [
    "'''<aside>\n",
    "💡 **Q8.** You have a set of integers s, which originally contains all the numbers from 1 to n. \n",
    "Unfortunately, due to some error, one of the numbers in s got duplicated to another number in the set, \n",
    "which results in repetition of one number and loss of another number.\n",
    "\n",
    "You are given an integer array nums representing the data status of this set after the error.\n",
    "\n",
    "Find the number that occurs twice and the number that is missing and return them in the form of an array.\n",
    "\n",
    "**Example 1:**\n",
    "Input: nums = [1,2,2,4]\n",
    "Output: [2,3]\n",
    "\n",
    "</aside>'''\n",
    "def findErrorNums(nums):\n",
    "    n = len(nums)\n",
    "    num_set = set()\n",
    "    duplicate = -1\n",
    "    missing = -1\n",
    "    for num in nums:\n",
    "        if num in num_set:\n",
    "            duplicate = num\n",
    "        num_set.add(num)\n",
    "    for i in range(1, n + 1):\n",
    "        if i not in num_set:\n",
    "            missing = i\n",
    "            break\n",
    "    return [duplicate, missing]\n",
    "\n",
    "# Example \n",
    "nums = [1, 2, 2, 4]\n",
    "result = findErrorNums(nums)\n",
    "print(result)\n"
   ]
  },
  {
   "cell_type": "code",
   "execution_count": null,
   "metadata": {},
   "outputs": [],
   "source": []
  }
 ],
 "metadata": {
  "kernelspec": {
   "display_name": "Python 3",
   "language": "python",
   "name": "python3"
  },
  "language_info": {
   "codemirror_mode": {
    "name": "ipython",
    "version": 3
   },
   "file_extension": ".py",
   "mimetype": "text/x-python",
   "name": "python",
   "nbconvert_exporter": "python",
   "pygments_lexer": "ipython3",
   "version": "3.11.1"
  },
  "orig_nbformat": 4
 },
 "nbformat": 4,
 "nbformat_minor": 2
}
