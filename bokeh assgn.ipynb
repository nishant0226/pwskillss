{
 "cells": [
  {
   "cell_type": "code",
   "execution_count": null,
   "metadata": {},
   "outputs": [],
   "source": [
    "'''Q1. How can you create a Bokeh plot using Python code?'''\n",
    "'''first we need to install bokeh using pip install bokeh then we import the required modules'''\n",
    "import bokeh.io\n",
    "from bokeh.plotting import figure ,output_file,show,output_notebook\n",
    "bokeh.io.output_notebook()"
   ]
  },
  {
   "cell_type": "code",
   "execution_count": null,
   "metadata": {},
   "outputs": [],
   "source": [
    "'''Q2. What are glyphs in Bokeh, and how can you add them to a Bokeh plot? Explain with an example.'''\n",
    "'''\n",
    "In Bokeh, a glyph is a graphical shape or marker that can be used to represent data points on a plot.\n",
    "Examples of glyphs include lines, circles, squares, and triangles.\n",
    "To add glyphs to a Bokeh plot, you first need to create a figure object and specify the data that you want to plot. \n",
    "Then, you can add glyphs to the figure using the corresponding glyph functions such as line, circle, square, triangle, and so on.\n",
    "'''\n",
    "# import the necessary libraries\n",
    "from bokeh.plotting import figure, output_file, show\n",
    "\n",
    "# create some sample data\n",
    "x = [1, 2, 3, 4, 5]\n",
    "y = [6, 7, 2, 4, 5]\n",
    "\n",
    "# specify the output file where the plot will be saved\n",
    "#output_file(\"circle_plot.html\")\n",
    "\n",
    "# create a new figure object\n",
    "p = figure(title=\"Sample Bokeh Plot\", x_axis_label='x', y_axis_label='y')\n",
    "\n",
    "# add a circle glyph to the figure object\n",
    "p.circle(x, y, size=10, color=\"navy\", alpha=0.5)\n",
    "\n",
    "# show the plot\n",
    "show(p)\n"
   ]
  },
  {
   "cell_type": "code",
   "execution_count": null,
   "metadata": {},
   "outputs": [],
   "source": [
    "'''Q3. How can you customize the appearance of a Bokeh plot, including the axes, title, and legend?'''\n",
    "'''Bokeh provides several ways to customize the appearance of a plot, including the axes, title, and legend. Here are some examples:\n",
    "\n",
    "Customizing the title:\n",
    "\n",
    "# create a new figure object and set the title\n",
    "p = figure(title=\"My Custom Title\", ...)\n",
    "\n",
    "\n",
    "Customizing the axes:\n",
    "\n",
    "# create a new figure object and set the x-axis and y-axis labels\n",
    "p = figure(x_axis_label='X-Axis Label', y_axis_label='Y-Axis Label', ...)\n",
    "\n",
    "# customize the axis ranges\n",
    "p.x_range.range_padding = 0.1 # padding around the x-axis range\n",
    "p.y_range.range_padding = 0.1 # padding around the y-axis range\n",
    "p.x_range.start = 0 # set the starting value of the x-axis range\n",
    "p.y_range.end = 100 # set the ending value of the y-axis range\n",
    "\n",
    "# customize the tick labels\n",
    "p.xaxis.axis_label_text_font_style = 'italic' # set the font style of the x-axis label\n",
    "p.yaxis.major_label_text_color = 'red' # set the color of the y-axis tick labels\n",
    "\n",
    "\n",
    "Customizing the legend:\n",
    "\n",
    "# add a legend to the plot and customize its location\n",
    "p.legend.location = \"top_left\" # set the location of the legend\n",
    "p.legend.label_text_font_size = \"12pt\" # set the font size of the legend labels\n",
    "p.legend.title = \"My Legend\" # set the title of the legend'''"
   ]
  },
  {
   "cell_type": "code",
   "execution_count": null,
   "metadata": {},
   "outputs": [],
   "source": [
    "'''Q4. What is a Bokeh server, and how can you use it to create interactive plots that can be updated in\n",
    "real time?'''\n",
    "'''A Bokeh server is a Python application that allows you to create interactive Bokeh plots that can be updated in real-time. \n",
    "With the Bokeh server, you can build web applications that let users interact with data in a dynamic and responsive way.'''"
   ]
  },
  {
   "cell_type": "code",
   "execution_count": null,
   "metadata": {},
   "outputs": [],
   "source": [
    "'''Q5. How can you embed a Bokeh plot into a web page or dashboard using Flask or Django?'''\n",
    "from flask import Flask, render_template\n",
    "from bokeh.plotting import figure\n",
    "from bokeh.embed import components\n",
    "\n",
    "app = Flask(__name__)\n",
    "\n",
    "@app.route('/')\n",
    "def index():\n",
    "    # Create a Bokeh plot\n",
    "    plot = figure(title='Example Plot', x_axis_label='X', y_axis_label='Y')\n",
    "    plot.line([1, 2, 3], [4, 5, 6])\n",
    "\n",
    "    # Generate the HTML code for the Bokeh plot\n",
    "    script, div = components(plot)\n",
    "\n",
    "    # Pass the HTML code as a context variable to the template\n",
    "    return render_template('bokeh.html', plot_script=script, plot_div=div)\n",
    "\n",
    "if __name__ == '__main__':\n",
    "    app.run(debug=True)\n"
   ]
  }
 ],
 "metadata": {
  "kernelspec": {
   "display_name": "Python 3",
   "language": "python",
   "name": "python3"
  },
  "language_info": {
   "codemirror_mode": {
    "name": "ipython",
    "version": 3
   },
   "file_extension": ".py",
   "mimetype": "text/x-python",
   "name": "python",
   "nbconvert_exporter": "python",
   "pygments_lexer": "ipython3",
   "version": "3.11.1"
  },
  "orig_nbformat": 4
 },
 "nbformat": 4,
 "nbformat_minor": 2
}
